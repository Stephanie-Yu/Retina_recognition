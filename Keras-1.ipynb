{
 "cells": [
  {
   "cell_type": "code",
   "execution_count": 1,
   "metadata": {},
   "outputs": [
    {
     "name": "stderr",
     "output_type": "stream",
     "text": [
      "Using TensorFlow backend.\n"
     ]
    }
   ],
   "source": [
    "import numpy as np\n",
    "import pandas as pd\n",
    "import os\n",
    "from glob import glob\n",
    "import matplotlib.pyplot as plt\n",
    "from PIL import Image\n",
    "import itertools\n",
    "\n",
    "from sklearn.model_selection import train_test_split\n",
    "from sklearn.metrics import confusion_matrix\n",
    "\n",
    "from keras.preprocessing.image import ImageDataGenerator\n",
    "from keras_applications import vgg16\n",
    "from keras.models import Sequential,load_model\n",
    "from keras.layers import Dense,Activation,Conv2D,Flatten,MaxPooling2D,Dropout\n",
    "from keras.optimizers import  Adam\n",
    "from keras.callbacks import ReduceLROnPlateau\n",
    "from keras.utils import np_utils"
   ]
  },
  {
   "cell_type": "code",
   "execution_count": 2,
   "metadata": {},
   "outputs": [],
   "source": [
    "import tensorflow as tf\n",
    "from keras.backend.tensorflow_backend import set_session\n",
    "config = tf.ConfigProto()\n",
    "config.gpu_options.per_process_gpu_memory_fraction = 0.9 # 使⽤45%記憶體\n",
    "set_session(tf.Session()) "
   ]
  },
  {
   "cell_type": "code",
   "execution_count": 3,
   "metadata": {},
   "outputs": [],
   "source": [
    "def load_data(file_path):\n",
    "\n",
    "    '''\n",
    "    load all of training data\n",
    "    '''\n",
    "\n",
    "    with open(file_path, \"r\") as lines:\n",
    "        data_list = []\n",
    "        for line in lines:\n",
    "            data_list.append(line.replace('\\n',''))\n",
    "\n",
    "#         shuffle(data_list) \n",
    "\n",
    "    data_path = []\n",
    "    data_label = []\n",
    "    for data in data_list:\n",
    "        data_path.append(data.split(' ')[0])\n",
    "        data_label.append(int(data.split(' ')[1]))\n",
    "\n",
    "    return data_path, data_label"
   ]
  },
  {
   "cell_type": "code",
   "execution_count": 4,
   "metadata": {},
   "outputs": [
    {
     "name": "stdout",
     "output_type": "stream",
     "text": [
      "66787 1.0\n"
     ]
    }
   ],
   "source": [
    "train_datareshape=[]\n",
    "path_train_x=load_data('train_data.txt')[0]\n",
    "for im in path_train_x:\n",
    "    im=np.array(Image.open(im).resize((80,80))).reshape(80,80,1)\n",
    "    train_datareshape.append(im)\n",
    "train_datareshape=np.array(train_datareshape)\n",
    "train_datareshape_=[]\n",
    "path_train_y=load_data('train_data.txt')[1]\n",
    "for y in path_train_y:    \n",
    "    im_y_ = np_utils.to_categorical(y,4)\n",
    "    train_datareshape_.append(im_y_)\n",
    "print(len(train_datareshape_),im_y_[0])\n"
   ]
  },
  {
   "cell_type": "code",
   "execution_count": 5,
   "metadata": {},
   "outputs": [
    {
     "name": "stdout",
     "output_type": "stream",
     "text": [
      "../DeepLearning/kermany2018/NewSize/train/NORMAL/NORMAL-8957096-13.jpeg\n",
      "3\n"
     ]
    }
   ],
   "source": [
    "path_train_x=load_data('train_data.txt')[0]\n",
    "print(path_train_x[1555])\n",
    "raw_image = Image.open('NORMAL-1384-1.jpg')\n",
    "raw_image\n",
    "path_train_y=load_data('train_data.txt')[1]\n",
    "print(path_train_y[1555])"
   ]
  },
  {
   "cell_type": "code",
   "execution_count": 5,
   "metadata": {},
   "outputs": [
    {
     "name": "stdout",
     "output_type": "stream",
     "text": [
      "(66787, 80, 80, 1)\n",
      "(66787, 4)\n"
     ]
    }
   ],
   "source": [
    "\n",
    "x_train=train_datareshape\n",
    "y_train=np.array(train_datareshape_)\n",
    "print(x_train.shape)\n",
    "print(y_train.shape)"
   ]
  },
  {
   "cell_type": "code",
   "execution_count": 6,
   "metadata": {},
   "outputs": [],
   "source": [
    "x_train, x_validate, y_train, y_validate = train_test_split(x_train, y_train, test_size = 0.1, random_state = 30)"
   ]
  },
  {
   "cell_type": "code",
   "execution_count": 7,
   "metadata": {},
   "outputs": [
    {
     "name": "stdout",
     "output_type": "stream",
     "text": [
      "(60108, 80, 80, 1)\n",
      "(6679, 80, 80, 1)\n",
      "(60108, 4)\n",
      "(6679, 4)\n"
     ]
    }
   ],
   "source": [
    "print(x_train.shape)\n",
    "print(x_validate.shape)\n",
    "print(y_train.shape)\n",
    "print(y_validate.shape)\n"
   ]
  },
  {
   "cell_type": "code",
   "execution_count": 9,
   "metadata": {},
   "outputs": [
    {
     "name": "stdout",
     "output_type": "stream",
     "text": [
      "_________________________________________________________________\n",
      "Layer (type)                 Output Shape              Param #   \n",
      "=================================================================\n",
      "conv2d_8 (Conv2D)            (None, 80, 80, 256)       2560      \n",
      "_________________________________________________________________\n",
      "conv2d_9 (Conv2D)            (None, 80, 80, 256)       590080    \n",
      "_________________________________________________________________\n",
      "max_pooling2d_4 (MaxPooling2 (None, 40, 40, 256)       0         \n",
      "_________________________________________________________________\n",
      "conv2d_10 (Conv2D)           (None, 40, 40, 128)       295040    \n",
      "_________________________________________________________________\n",
      "conv2d_11 (Conv2D)           (None, 40, 40, 128)       147584    \n",
      "_________________________________________________________________\n",
      "max_pooling2d_5 (MaxPooling2 (None, 20, 20, 128)       0         \n",
      "_________________________________________________________________\n",
      "conv2d_12 (Conv2D)           (None, 20, 20, 64)        73792     \n",
      "_________________________________________________________________\n",
      "conv2d_13 (Conv2D)           (None, 20, 20, 64)        36928     \n",
      "_________________________________________________________________\n",
      "conv2d_14 (Conv2D)           (None, 20, 20, 64)        36928     \n",
      "_________________________________________________________________\n",
      "max_pooling2d_6 (MaxPooling2 (None, 10, 10, 64)        0         \n",
      "_________________________________________________________________\n",
      "flatten_2 (Flatten)          (None, 6400)              0         \n",
      "_________________________________________________________________\n",
      "dense_4 (Dense)              (None, 32)                204832    \n",
      "_________________________________________________________________\n",
      "dense_5 (Dense)              (None, 32)                1056      \n",
      "_________________________________________________________________\n",
      "dense_6 (Dense)              (None, 4)                 132       \n",
      "=================================================================\n",
      "Total params: 1,388,932\n",
      "Trainable params: 1,388,932\n",
      "Non-trainable params: 0\n",
      "_________________________________________________________________\n"
     ]
    }
   ],
   "source": [
    "input_shape = (80, 80, 1)\n",
    "num_classes = 4\n",
    "\n",
    "# model = VGG16(weights='imagenet', include_top=True)\n",
    "\n",
    "model = Sequential([\n",
    "    Conv2D(256, (3, 3), input_shape=input_shape, padding='same',\n",
    "           activation='relu'),\n",
    "    Conv2D(256, (3, 3), activation='relu', padding='same'),\n",
    "    MaxPooling2D(pool_size=(2, 2), strides=(2, 2)),\n",
    "    Conv2D(128, (3, 3), activation='relu', padding='same'),\n",
    "    Conv2D(128, (3, 3), activation='relu', padding='same',),\n",
    "    MaxPooling2D(pool_size=(2, 2), strides=(2, 2)),\n",
    "    Conv2D(64, (3, 3), activation='relu', padding='same',),\n",
    "    Conv2D(64, (3, 3), activation='relu', padding='same',),\n",
    "    Conv2D(64, (3, 3), activation='relu', padding='same',),\n",
    "    MaxPooling2D(pool_size=(2, 2), strides=(2, 2)),\n",
    "#     Conv2D(512, (3, 3), activation='relu', padding='same',),\n",
    "#     Conv2D(512, (3, 3), activation='relu', padding='same',),\n",
    "#     Conv2D(512, (3, 3), activation='relu', padding='same',),\n",
    "#     MaxPooling2D(pool_size=(2, 2), strides=(2, 2)),\n",
    "#     Conv2D(512, (3, 3), activation='relu', padding='same',),\n",
    "#     Conv2D(512, (3, 3), activation='relu', padding='same',),\n",
    "#     Conv2D(512, (3, 3), activation='relu', padding='same',),\n",
    "#     MaxPooling2D(pool_size=(2, 2), strides=(2, 2)),\n",
    "    Flatten(),\n",
    "    Dense(32, activation='relu'),\n",
    "    Dense(32, activation='relu'),\n",
    "    Dense(4, activation='softmax')\n",
    "])\n",
    "\n",
    "model.summary()"
   ]
  },
  {
   "cell_type": "code",
   "execution_count": 10,
   "metadata": {},
   "outputs": [],
   "source": [
    "optimizer = Adam(lr=0.001, beta_1=0.9, beta_2=0.999, epsilon=None, decay=0.0, amsgrad=False)\n",
    "model.compile(optimizer = optimizer , loss = \"categorical_crossentropy\", metrics=[\"accuracy\"])\n",
    "learning_rate_reduction = ReduceLROnPlateau(monitor='val_acc', \n",
    "                                            patience=3, \n",
    "                                            verbose=1, \n",
    "                                            factor=0.5, \n",
    "                                            min_lr=0.00001)"
   ]
  },
  {
   "cell_type": "code",
   "execution_count": 11,
   "metadata": {},
   "outputs": [],
   "source": [
    "datagen = ImageDataGenerator(\n",
    "        featurewise_center=False,  # set input mean to 0 over the dataset\n",
    "        samplewise_center=False,  # set each sample mean to 0\n",
    "        featurewise_std_normalization=False,  # divide inputs by std of the dataset\n",
    "        samplewise_std_normalization=False,  # divide each input by its std\n",
    "        zca_whitening=False,  # apply ZCA whitening\n",
    "        rotation_range=10,  # randomly rotate images in the range (degrees, 0 to 180)\n",
    "        zoom_range = 0.1, # Randomly zoom image \n",
    "        width_shift_range=0.1,  # randomly shift images horizontally (fraction of total width)\n",
    "        height_shift_range=0.1,  # randomly shift images vertically (fraction of total height)\n",
    "        horizontal_flip=False,  # randomly flip images\n",
    "        vertical_flip=False)  # randomly flip images\n",
    "\n",
    "datagen.fit(x_train)"
   ]
  },
  {
   "cell_type": "code",
   "execution_count": 12,
   "metadata": {},
   "outputs": [
    {
     "name": "stdout",
     "output_type": "stream",
     "text": [
      "Epoch 1/45\n",
      "939/939 [==============================] - 123s 131ms/step - loss: 0.7816 - acc: 0.6981 - val_loss: 0.5459 - val_acc: 0.8069\n",
      "Epoch 2/45\n",
      "939/939 [==============================] - 120s 127ms/step - loss: 0.3916 - acc: 0.8617 - val_loss: 0.3886 - val_acc: 0.8669\n",
      "Epoch 3/45\n",
      "939/939 [==============================] - 120s 127ms/step - loss: 0.3121 - acc: 0.8945 - val_loss: 0.4157 - val_acc: 0.8700\n",
      "Epoch 4/45\n",
      "939/939 [==============================] - 120s 127ms/step - loss: 0.2741 - acc: 0.9081 - val_loss: 0.4496 - val_acc: 0.8688\n",
      "Epoch 5/45\n",
      "939/939 [==============================] - 120s 127ms/step - loss: 0.2627 - acc: 0.9112 - val_loss: 0.3174 - val_acc: 0.9078\n",
      "Epoch 6/45\n",
      "939/939 [==============================] - 120s 127ms/step - loss: 0.2441 - acc: 0.9168 - val_loss: 0.2877 - val_acc: 0.9079\n",
      "Epoch 7/45\n",
      "939/939 [==============================] - 120s 127ms/step - loss: 0.2382 - acc: 0.9194 - val_loss: 0.2439 - val_acc: 0.9227\n",
      "Epoch 8/45\n",
      "939/939 [==============================] - 120s 128ms/step - loss: 0.2334 - acc: 0.9208 - val_loss: 0.2508 - val_acc: 0.9197\n",
      "Epoch 9/45\n",
      "939/939 [==============================] - 119s 127ms/step - loss: 0.2262 - acc: 0.9232 - val_loss: 0.2909 - val_acc: 0.9130\n",
      "Epoch 10/45\n",
      "939/939 [==============================] - 119s 127ms/step - loss: 0.2178 - acc: 0.9258 - val_loss: 0.2874 - val_acc: 0.9090\n",
      "\n",
      "Epoch 00010: ReduceLROnPlateau reducing learning rate to 0.0005000000237487257.\n",
      "Epoch 11/45\n",
      "939/939 [==============================] - 119s 127ms/step - loss: 0.1884 - acc: 0.9357 - val_loss: 0.2093 - val_acc: 0.9311\n",
      "Epoch 12/45\n",
      "939/939 [==============================] - 120s 127ms/step - loss: 0.1815 - acc: 0.9371 - val_loss: 0.2492 - val_acc: 0.9280\n",
      "Epoch 13/45\n",
      "939/939 [==============================] - 119s 127ms/step - loss: 0.1741 - acc: 0.9396 - val_loss: 0.2659 - val_acc: 0.9199\n",
      "Epoch 14/45\n",
      "939/939 [==============================] - 119s 127ms/step - loss: 0.1743 - acc: 0.9396 - val_loss: 0.2562 - val_acc: 0.9269\n",
      "\n",
      "Epoch 00014: ReduceLROnPlateau reducing learning rate to 0.0002500000118743628.\n",
      "Epoch 15/45\n",
      "939/939 [==============================] - 119s 127ms/step - loss: 0.1541 - acc: 0.9463 - val_loss: 0.2141 - val_acc: 0.9314\n",
      "Epoch 16/45\n",
      "939/939 [==============================] - 120s 127ms/step - loss: 0.1506 - acc: 0.9478 - val_loss: 0.2141 - val_acc: 0.9356\n",
      "Epoch 17/45\n",
      "939/939 [==============================] - 120s 127ms/step - loss: 0.1476 - acc: 0.9490 - val_loss: 0.2048 - val_acc: 0.9344\n",
      "Epoch 18/45\n",
      "939/939 [==============================] - 119s 127ms/step - loss: 0.1484 - acc: 0.9477 - val_loss: 0.2379 - val_acc: 0.9277\n",
      "Epoch 19/45\n",
      "939/939 [==============================] - 120s 127ms/step - loss: 0.1431 - acc: 0.9505 - val_loss: 0.2089 - val_acc: 0.9322\n",
      "\n",
      "Epoch 00019: ReduceLROnPlateau reducing learning rate to 0.0001250000059371814.\n",
      "Epoch 20/45\n",
      "939/939 [==============================] - 119s 127ms/step - loss: 0.1329 - acc: 0.9532 - val_loss: 0.2405 - val_acc: 0.9289\n",
      "Epoch 21/45\n",
      "939/939 [==============================] - 120s 127ms/step - loss: 0.1307 - acc: 0.9545 - val_loss: 0.2131 - val_acc: 0.9322\n",
      "Epoch 22/45\n",
      "939/939 [==============================] - 120s 127ms/step - loss: 0.1294 - acc: 0.9550 - val_loss: 0.2342 - val_acc: 0.9317\n",
      "\n",
      "Epoch 00022: ReduceLROnPlateau reducing learning rate to 6.25000029685907e-05.\n",
      "Epoch 23/45\n",
      "939/939 [==============================] - 120s 127ms/step - loss: 0.1256 - acc: 0.9567 - val_loss: 0.2220 - val_acc: 0.9344\n",
      "Epoch 24/45\n",
      "939/939 [==============================] - 120s 127ms/step - loss: 0.1233 - acc: 0.9572 - val_loss: 0.2182 - val_acc: 0.9347\n",
      "Epoch 25/45\n",
      "939/939 [==============================] - 120s 127ms/step - loss: 0.1216 - acc: 0.9571 - val_loss: 0.2308 - val_acc: 0.9311\n",
      "\n",
      "Epoch 00025: ReduceLROnPlateau reducing learning rate to 3.125000148429535e-05.\n",
      "Epoch 26/45\n",
      "939/939 [==============================] - 120s 127ms/step - loss: 0.1181 - acc: 0.9585 - val_loss: 0.2113 - val_acc: 0.9371\n",
      "Epoch 27/45\n",
      "939/939 [==============================] - 120s 127ms/step - loss: 0.1190 - acc: 0.9582 - val_loss: 0.2090 - val_acc: 0.9377\n",
      "Epoch 28/45\n",
      "939/939 [==============================] - 119s 127ms/step - loss: 0.1199 - acc: 0.9583 - val_loss: 0.2187 - val_acc: 0.9356\n",
      "Epoch 29/45\n",
      "939/939 [==============================] - 119s 127ms/step - loss: 0.1168 - acc: 0.9601 - val_loss: 0.2154 - val_acc: 0.9370\n",
      "Epoch 30/45\n",
      "939/939 [==============================] - 120s 127ms/step - loss: 0.1186 - acc: 0.9588 - val_loss: 0.2128 - val_acc: 0.9367\n",
      "\n",
      "Epoch 00030: ReduceLROnPlateau reducing learning rate to 1.5625000742147677e-05.\n",
      "Epoch 31/45\n",
      "939/939 [==============================] - 120s 127ms/step - loss: 0.1169 - acc: 0.9584 - val_loss: 0.2105 - val_acc: 0.9385\n",
      "Epoch 32/45\n",
      "939/939 [==============================] - 119s 127ms/step - loss: 0.1155 - acc: 0.9601 - val_loss: 0.2208 - val_acc: 0.9361\n",
      "Epoch 33/45\n",
      "939/939 [==============================] - 120s 128ms/step - loss: 0.1167 - acc: 0.9596 - val_loss: 0.2177 - val_acc: 0.9370\n",
      "Epoch 34/45\n",
      "939/939 [==============================] - 119s 127ms/step - loss: 0.1156 - acc: 0.9593 - val_loss: 0.2173 - val_acc: 0.9362\n",
      "\n",
      "Epoch 00034: ReduceLROnPlateau reducing learning rate to 1e-05.\n",
      "Epoch 35/45\n",
      "939/939 [==============================] - 120s 127ms/step - loss: 0.1141 - acc: 0.9597 - val_loss: 0.2137 - val_acc: 0.9367\n",
      "Epoch 36/45\n",
      "939/939 [==============================] - 120s 127ms/step - loss: 0.1144 - acc: 0.9605 - val_loss: 0.2199 - val_acc: 0.9361\n",
      "Epoch 37/45\n",
      "939/939 [==============================] - 119s 127ms/step - loss: 0.1146 - acc: 0.9601 - val_loss: 0.2164 - val_acc: 0.9364\n",
      "Epoch 38/45\n",
      "939/939 [==============================] - 120s 127ms/step - loss: 0.1140 - acc: 0.9607 - val_loss: 0.2158 - val_acc: 0.9362\n",
      "Epoch 39/45\n",
      "939/939 [==============================] - 120s 127ms/step - loss: 0.1136 - acc: 0.9599 - val_loss: 0.2193 - val_acc: 0.9350\n",
      "Epoch 40/45\n",
      "939/939 [==============================] - 119s 127ms/step - loss: 0.1159 - acc: 0.9594 - val_loss: 0.2128 - val_acc: 0.9371\n",
      "Epoch 41/45\n",
      "939/939 [==============================] - 120s 127ms/step - loss: 0.1135 - acc: 0.9599 - val_loss: 0.2162 - val_acc: 0.9364\n",
      "Epoch 42/45\n",
      "939/939 [==============================] - 120s 128ms/step - loss: 0.1149 - acc: 0.9593 - val_loss: 0.2224 - val_acc: 0.9346\n",
      "Epoch 43/45\n",
      "939/939 [==============================] - 120s 127ms/step - loss: 0.1126 - acc: 0.9608 - val_loss: 0.2176 - val_acc: 0.9352\n",
      "Epoch 44/45\n",
      "939/939 [==============================] - 120s 127ms/step - loss: 0.1110 - acc: 0.9618 - val_loss: 0.2128 - val_acc: 0.9368\n",
      "Epoch 45/45\n",
      "939/939 [==============================] - 120s 127ms/step - loss: 0.1122 - acc: 0.9613 - val_loss: 0.2154 - val_acc: 0.9371\n"
     ]
    }
   ],
   "source": [
    "epochs = 45 \n",
    "batch_size = 64\n",
    "history = model.fit_generator(datagen.flow(x_train,y_train, batch_size=batch_size),\n",
    "                              epochs = epochs, validation_data = (x_validate,y_validate),\n",
    "                              verbose = 1, steps_per_epoch=x_train.shape[0] // batch_size\n",
    "                              , callbacks=[learning_rate_reduction])"
   ]
  },
  {
   "cell_type": "code",
   "execution_count": 13,
   "metadata": {},
   "outputs": [
    {
     "name": "stdout",
     "output_type": "stream",
     "text": [
      "6679/6679 [==============================] - 5s 744us/step\n",
      "Validation: accuracy = 0.937116  ;  loss_v = 0.215389\n"
     ]
    }
   ],
   "source": [
    "loss_v, accuracy_v = model.evaluate(x_validate, y_validate, verbose=1)\n",
    "print(\"Validation: accuracy = %f  ;  loss_v = %f\" % (accuracy_v, loss_v))\n",
    "model.save(\"model_2.h5\")"
   ]
  },
  {
   "cell_type": "code",
   "execution_count": null,
   "metadata": {},
   "outputs": [],
   "source": []
  },
  {
   "cell_type": "code",
   "execution_count": 14,
   "metadata": {},
   "outputs": [],
   "source": [
    "def plot_model_history(model_history):\n",
    "    fig, axs = plt.subplots(1,2,figsize=(15,5))\n",
    "    # summarize history for accuracy\n",
    "    axs[0].plot(range(1,len(model_history.history['acc'])+1),model_history.history['acc'])\n",
    "    axs[0].plot(range(1,len(model_history.history['val_acc'])+1),model_history.history['val_acc'])\n",
    "    axs[0].set_title('Model Accuracy')\n",
    "    axs[0].set_ylabel('Accuracy')\n",
    "    axs[0].set_xlabel('Epoch')\n",
    "    axs[0].set_xticks(np.arange(1,len(model_history.history['acc'])+1),len(model_history.history['acc'])/10)\n",
    "    axs[0].legend(['train', 'val'], loc='best')\n",
    "    # summarize history for loss\n",
    "    axs[1].plot(range(1,len(model_history.history['loss'])+1),model_history.history['loss'])\n",
    "    axs[1].plot(range(1,len(model_history.history['val_loss'])+1),model_history.history['val_loss'])\n",
    "    axs[1].set_title('Model Loss')\n",
    "    axs[1].set_ylabel('Loss')\n",
    "    axs[1].set_xlabel('Epoch')\n",
    "    axs[1].set_xticks(np.arange(1,len(model_history.history['loss'])+1),len(model_history.history['loss'])/10)\n",
    "    axs[1].legend(['train', 'val'], loc='best')\n",
    "    plt.show()"
   ]
  },
  {
   "cell_type": "code",
   "execution_count": 15,
   "metadata": {},
   "outputs": [
    {
     "data": {
      "image/png": "[encoded data removed]",
      "text/plain": [
       "<Figure size 1080x360 with 2 Axes>"
      ]
     },
     "metadata": {
      "needs_background": "light"
     },
     "output_type": "display_data"
    }
   ],
   "source": [
    "plot_model_history(history)"
   ]
  },
  {
   "cell_type": "code",
   "execution_count": 16,
   "metadata": {},
   "outputs": [
    {
     "data": {
      "image/png": "[encoded data removed]",
      "text/plain": [
       "<Figure size 432x288 with 2 Axes>"
      ]
     },
     "metadata": {
      "needs_background": "light"
     },
     "output_type": "display_data"
    }
   ],
   "source": [
    "def plot_confusion_matrix(cm, classes,\n",
    "                          normalize=False,\n",
    "                          title='Confusion matrix',\n",
    "                          cmap=plt.cm.Blues):\n",
    "    \"\"\"\n",
    "    This function prints and plots the confusion matrix.\n",
    "    Normalization can be applied by setting `normalize=True`.\n",
    "    \"\"\"\n",
    "    plt.imshow(cm, interpolation='nearest', cmap=cmap)\n",
    "    plt.title(title)\n",
    "    plt.colorbar()\n",
    "    tick_marks = np.arange(len(classes))\n",
    "    plt.xticks(tick_marks, classes, rotation=45)\n",
    "    plt.yticks(tick_marks, classes)\n",
    "\n",
    "    if normalize:\n",
    "        cm = cm.astype('float') / cm.sum(axis=1)[:, np.newaxis]\n",
    "\n",
    "    thresh = cm.max() / 2.\n",
    "    for i, j in itertools.product(range(cm.shape[0]), range(cm.shape[1])):\n",
    "        plt.text(j, i, cm[i, j],\n",
    "                 horizontalalignment=\"center\",\n",
    "                 color=\"white\" if cm[i, j] > thresh else \"black\")\n",
    "\n",
    "    plt.tight_layout()\n",
    "    plt.ylabel('True label')\n",
    "    plt.xlabel('Predicted label')\n",
    "\n",
    "# Predict the values from the validation dataset\n",
    "Y_pred = model.predict(x_validate)\n",
    "# Convert predictions classes to one hot vectors \n",
    "Y_pred_classes = np.argmax(Y_pred,axis = 1) \n",
    "# Convert validation observations to one hot vectors\n",
    "Y_true = np.argmax(y_validate,axis = 1) \n",
    "# compute the confusion matrix\n",
    "confusion_mtx = confusion_matrix(Y_true, Y_pred_classes)\n",
    "\n",
    " \n",
    "\n",
    "# plot the confusion matrix\n",
    "plot_confusion_matrix(confusion_mtx, classes = range(4)) "
   ]
  },
  {
   "cell_type": "code",
   "execution_count": 17,
   "metadata": {},
   "outputs": [],
   "source": [
    "model = load_model('model_2.h5')"
   ]
  },
  {
   "cell_type": "code",
   "execution_count": 18,
   "metadata": {},
   "outputs": [
    {
     "data": {
      "text/plain": [
       "(60108, 80, 80, 1)"
      ]
     },
     "execution_count": 18,
     "metadata": {},
     "output_type": "execute_result"
    }
   ],
   "source": [
    "x_train.shape"
   ]
  },
  {
   "cell_type": "code",
   "execution_count": 20,
   "metadata": {},
   "outputs": [
    {
     "name": "stdout",
     "output_type": "stream",
     "text": [
      "100/100 [==============================] - 0s 3ms/step\n",
      "Validation: accuracy = 0.940000  ;  loss_v = 0.168387\n"
     ]
    }
   ],
   "source": [
    "loss_v, accuracy_v = model.evaluate(x_validate[:100], y_validate[:100], verbose=1)\n",
    "print(\"Validation: accuracy = %f  ;  loss_v = %f\" % (accuracy_v, loss_v))"
   ]
  },
  {
   "cell_type": "code",
   "execution_count": 21,
   "metadata": {},
   "outputs": [
    {
     "data": {
      "image/png": "[encoded data removed]",
      "text/plain": [
       "<Figure size 432x288 with 2 Axes>"
      ]
     },
     "metadata": {
      "needs_background": "light"
     },
     "output_type": "display_data"
    }
   ],
   "source": [
    "# Predict the values from the validation dataset\n",
    "Y_pred = model.predict(x_train)\n",
    "# Convert predictions classes to one hot vectors \n",
    "Y_pred_classes = np.argmax(Y_pred,axis = 1) \n",
    "# Convert validation observations to one hot vectors\n",
    "Y_true = np.argmax(y_train,axis = 1) \n",
    "# compute the confusion matrix\n",
    "confusion_mtx = confusion_matrix(Y_true, Y_pred_classes)\n",
    "\n",
    " \n",
    "\n",
    "# plot the confusion matrix\n",
    "plot_confusion_matrix(confusion_mtx, classes = range(4)) "
   ]
  },
  {
   "cell_type": "code",
   "execution_count": 189,
   "metadata": {},
   "outputs": [
    {
     "name": "stdout",
     "output_type": "stream",
     "text": [
      "<class 'numpy.ndarray'>\n",
      "3\n",
      "2\n",
      "0\n",
      "0\n",
      "1\n",
      "1\n",
      "0\n",
      "1\n",
      "3\n",
      "1\n",
      "[[0. 0. 0. 1.]\n",
      " [0. 0. 1. 0.]\n",
      " [1. 0. 0. 0.]\n",
      " [1. 0. 0. 0.]\n",
      " [0. 1. 0. 0.]\n",
      " [0. 1. 0. 0.]\n",
      " [1. 0. 0. 0.]\n",
      " [0. 1. 0. 0.]\n",
      " [0. 0. 0. 1.]\n",
      " [0. 1. 0. 0.]]\n"
     ]
    }
   ],
   "source": [
    "print(type(x_validate))\n",
    "Y_pred = model.predict(x_validate[:10])\n",
    "for i in Y_pred:\n",
    "    print(np.argmax(i))\n",
    "print(y_validate[:10])"
   ]
  },
  {
   "cell_type": "code",
   "execution_count": 22,
   "metadata": {},
   "outputs": [
    {
     "name": "stdout",
     "output_type": "stream",
     "text": [
      "(496, 496)\n",
      "6400\n",
      "(80, 80, 1)\n",
      "<class 'numpy.ndarray'>\n",
      "1\n"
     ]
    }
   ],
   "source": [
    "print(Image.open('kermany2018/NewSize/train/NORMAL/NORMAL-8997758-4.jpeg').size)\n",
    "\n",
    "img = np.asarray(Image.open('kermany2018/NewSize/test/DME/DME-138971-2.jpeg').resize((80,80)))\n",
    "print(img.size)\n",
    "img = np.asarray(img.tolist())\n",
    "# normalized_image = img/255\n",
    "\n",
    "im = img.reshape(80,80,1)\n",
    "print(im.shape)\n",
    "img = np.expand_dims(im, axis=0)\n",
    "print(type(img))\n",
    "pred = model.predict(img)\n",
    "\n",
    "print(np.argmax(pred))\n",
    "# pred = np.array(pred[0])\n",
    "# print(np.argmax(pred))\n",
    "\n",
    "\n",
    "\n",
    "# loss_v, accuracy_v = model.evaluate(img, 1, verbose=1)\n",
    "# print(\"Validation: accuracy = %f  ;  loss_v = %f\" % (accuracy_v, loss_v))\n",
    "\n"
   ]
  }
 ],
 "metadata": {
  "kernelspec": {
   "display_name": "Python 3",
   "language": "python",
   "name": "python3"
  },
  "language_info": {
   "codemirror_mode": {
    "name": "ipython",
    "version": 3
   },
   "file_extension": ".py",
   "mimetype": "text/x-python",
   "name": "python",
   "nbconvert_exporter": "python",
   "pygments_lexer": "ipython3",
   "version": "3.6.3"
  }
 },
 "nbformat": 4,
 "nbformat_minor": 2
}
