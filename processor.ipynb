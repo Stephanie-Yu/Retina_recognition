{
 "cells": [
  {
   "cell_type": "code",
   "execution_count": 2,
   "metadata": {},
   "outputs": [],
   "source": [
    "import numpy as np\n",
    "from os import listdir\n",
    "from random import shuffle\n",
    "from PIL import Image\n",
    "import os\n",
    "from glob import glob"
   ]
  },
  {
   "cell_type": "code",
   "execution_count": 5,
   "metadata": {},
   "outputs": [
    {
     "name": "stdout",
     "output_type": "stream",
     "text": [
      "['../DeepLearning/kermany2018/OCT2017/test/DME/DME-6314020-1.jpeg', '../DeepLearning/kermany2018/OCT2017/test/DME/DME-306172-1.jpeg', '../DeepLearning/kermany2018/OCT2017/test/DME/DME-8019418-1.jpeg', '../DeepLearning/kermany2018/OCT2017/test/DME/DME-8426419-2.jpeg', '../DeepLearning/kermany2018/OCT2017/test/DME/DME-7793366-1.jpeg', '../DeepLearning/kermany2018/OCT2017/test/DME/DME-5834001-1.jpeg', '../DeepLearning/kermany2018/OCT2017/test/DME/DME-8000885-1.jpeg', '../DeepLearning/kermany2018/OCT2017/test/DME/DME-7434518-1.jpeg', '../DeepLearning/kermany2018/OCT2017/test/DME/DME-6716735-2.jpeg', '../DeepLearning/kermany2018/OCT2017/test/DME/DME-5975636-1.jpeg', '../DeepLearning/kermany2018/OCT2017/test/DME/DME-7650134-2.jpeg', '../DeepLearning/kermany2018/OCT2017/test/DME/DME-4244491-1.jpeg', '../DeepLearning/kermany2018/OCT2017/test/DME/DME-2716523-1.jpeg', '../DeepLearning/kermany2018/OCT2017/test/DME/DME-8525575-6.jpeg', '../DeepLearning/kermany2018/OCT2017/test/DME/DME-7846574-1.jpeg', '../DeepLearning/kermany2018/OCT2017/test/DME/DME-5014129-2.jpeg', '../DeepLearning/kermany2018/OCT2017/test/DME/DME-778975-1.jpeg', '../DeepLearning/kermany2018/OCT2017/test/DME/DME-7907461-1.jpeg', '../DeepLearning/kermany2018/OCT2017/test/DME/DME-4478609-1.jpeg', '../DeepLearning/kermany2018/OCT2017/test/DME/DME-30521-7.jpeg', '../DeepLearning/kermany2018/OCT2017/test/DME/DME-70266-1.jpeg', '../DeepLearning/kermany2018/OCT2017/test/DME/DME-30521-12.jpeg', '../DeepLearning/kermany2018/OCT2017/test/DME/DME-4240465-2.jpeg', '../DeepLearning/kermany2018/OCT2017/test/DME/DME-8908847-1.jpeg', '../DeepLearning/kermany2018/OCT2017/test/DME/DME-7918201-1.jpeg', '../DeepLearning/kermany2018/OCT2017/test/DME/DME-1081406-1.jpeg', '../DeepLearning/kermany2018/OCT2017/test/DME/DME-7585263-1.jpeg', '../DeepLearning/kermany2018/OCT2017/test/DME/DME-57603-1.jpeg', '../DeepLearning/kermany2018/OCT2017/test/DME/DME-2556938-1.jpeg', '../DeepLearning/kermany2018/OCT2017/test/DME/DME-7939555-2.jpeg', '../DeepLearning/kermany2018/OCT2017/test/DME/DME-4336607-1.jpeg', '../DeepLearning/kermany2018/OCT2017/test/DME/DME-4897748-1.jpeg', '../DeepLearning/kermany2018/OCT2017/test/DME/DME-7934335-1.jpeg', '../DeepLearning/kermany2018/OCT2017/test/DME/DME-7780589-1.jpeg', '../DeepLearning/kermany2018/OCT2017/test/DME/DME-8729675-2.jpeg', '../DeepLearning/kermany2018/OCT2017/test/DME/DME-4146088-1.jpeg', '../DeepLearning/kermany2018/OCT2017/test/DME/DME-7573590-1.jpeg', '../DeepLearning/kermany2018/OCT2017/test/DME/DME-7558688-1.jpeg', '../DeepLearning/kermany2018/OCT2017/test/DME/DME-5497895-1.jpeg', '../DeepLearning/kermany2018/OCT2017/test/DME/DME-6434323-1.jpeg', '../DeepLearning/kermany2018/OCT2017/test/DME/DME-30521-11.jpeg', '../DeepLearning/kermany2018/OCT2017/test/DME/DME-7469235-1.jpeg', '../DeepLearning/kermany2018/OCT2017/test/DME/DME-5072525-1.jpeg', '../DeepLearning/kermany2018/OCT2017/test/DME/DME-5760454-1.jpeg', '../DeepLearning/kermany2018/OCT2017/test/DME/DME-7706610-1.jpeg', '../DeepLearning/kermany2018/OCT2017/test/DME/DME-8019418-4.jpeg', '../DeepLearning/kermany2018/OCT2017/test/DME/DME-269181-1.jpeg', '../DeepLearning/kermany2018/OCT2017/test/DME/DME-323904-2.jpeg', '../DeepLearning/kermany2018/OCT2017/test/DME/DME-5802218-1.jpeg', '../DeepLearning/kermany2018/OCT2017/test/DME/DME-30521-8.jpeg', '../DeepLearning/kermany2018/OCT2017/test/DME/DME-5796574-1.jpeg', '../DeepLearning/kermany2018/OCT2017/test/DME/DME-7939555-1.jpeg', '../DeepLearning/kermany2018/OCT2017/test/DME/DME-8472707-1.jpeg', '../DeepLearning/kermany2018/OCT2017/test/DME/DME-7650134-1.jpeg', '../DeepLearning/kermany2018/OCT2017/test/DME/DME-8847144-1.jpeg', '../DeepLearning/kermany2018/OCT2017/test/DME/DME-1274315-2.jpeg', '../DeepLearning/kermany2018/OCT2017/test/DME/DME-9488073-1.jpeg', '../DeepLearning/kermany2018/OCT2017/test/DME/DME-8469406-1.jpeg', '../DeepLearning/kermany2018/OCT2017/test/DME/DME-7578162-1.jpeg', '../DeepLearning/kermany2018/OCT2017/test/DME/DME-6716735-1.jpeg', '../DeepLearning/kermany2018/OCT2017/test/DME/DME-7870558-4.jpeg', '../DeepLearning/kermany2018/OCT2017/test/DME/DME-8861620-2.jpeg', '../DeepLearning/kermany2018/OCT2017/test/DME/DME-8457431-1.jpeg', '../DeepLearning/kermany2018/OCT2017/test/DME/DME-8589279-1.jpeg', '../DeepLearning/kermany2018/OCT2017/test/DME/DME-7757895-1.jpeg', '../DeepLearning/kermany2018/OCT2017/test/DME/DME-8889771-3.jpeg', '../DeepLearning/kermany2018/OCT2017/test/DME/DME-30521-2.jpeg', '../DeepLearning/kermany2018/OCT2017/test/DME/DME-5014129-1.jpeg', '../DeepLearning/kermany2018/OCT2017/test/DME/DME-9378346-2.jpeg', '../DeepLearning/kermany2018/OCT2017/test/DME/DME-7432714-1.jpeg', '../DeepLearning/kermany2018/OCT2017/test/DME/DME-2630113-1.jpeg', '../DeepLearning/kermany2018/OCT2017/test/DME/DME-7591008-1.jpeg', '../DeepLearning/kermany2018/OCT2017/test/DME/DME-7248535-1.jpeg', '../DeepLearning/kermany2018/OCT2017/test/DME/DME-8130267-1.jpeg', '../DeepLearning/kermany2018/OCT2017/test/DME/DME-671384-1.jpeg', '../DeepLearning/kermany2018/OCT2017/test/DME/DME-30521-9.jpeg', '../DeepLearning/kermany2018/OCT2017/test/DME/DME-3810791-1.jpeg', '../DeepLearning/kermany2018/OCT2017/test/DME/DME-9504297-1.jpeg', '../DeepLearning/kermany2018/OCT2017/test/DME/DME-910956-1.jpeg', '../DeepLearning/kermany2018/OCT2017/test/DME/DME-98994-1.jpeg', '../DeepLearning/kermany2018/OCT2017/test/DME/DME-9428363-1.jpeg', '../DeepLearning/kermany2018/OCT2017/test/DME/DME-6151003-1.jpeg', '../DeepLearning/kermany2018/OCT2017/test/DME/DME-30521-3.jpeg', '../DeepLearning/kermany2018/OCT2017/test/DME/DME-3722280-1.jpeg', '../DeepLearning/kermany2018/OCT2017/test/DME/DME-30521-1.jpeg', '../DeepLearning/kermany2018/OCT2017/test/DME/DME-1102486-2.jpeg', '../DeepLearning/kermany2018/OCT2017/test/DME/DME-7585263-3.jpeg', '../DeepLearning/kermany2018/OCT2017/test/DME/DME-3064922-1.jpeg', '../DeepLearning/kermany2018/OCT2017/test/DME/DME-5981434-1.jpeg', '../DeepLearning/kermany2018/OCT2017/test/DME/DME-4240465-1.jpeg', '../DeepLearning/kermany2018/OCT2017/test/DME/DME-9211360-2.jpeg', '../DeepLearning/kermany2018/OCT2017/test/DME/DME-7870558-2.jpeg', '../DeepLearning/kermany2018/OCT2017/test/DME/DME-119840-1.jpeg', '../DeepLearning/kermany2018/OCT2017/test/DME/DME-5465575-1.jpeg', '../DeepLearning/kermany2018/OCT2017/test/DME/DME-4732091-1.jpeg', '../DeepLearning/kermany2018/OCT2017/test/DME/DME-7614088-1.jpeg', '../DeepLearning/kermany2018/OCT2017/test/DME/DME-8635355-1.jpeg', '../DeepLearning/kermany2018/OCT2017/test/DME/DME-8602716-1.jpeg', '../DeepLearning/kermany2018/OCT2017/test/DME/DME-3475211-1.jpeg', '../DeepLearning/kermany2018/OCT2017/test/DME/DME-8366524-2.jpeg', '../DeepLearning/kermany2018/OCT2017/test/DME/DME-4989358-1.jpeg', '../DeepLearning/kermany2018/OCT2017/test/DME/DME-3288089-1.jpeg', '../DeepLearning/kermany2018/OCT2017/test/DME/DME-8366524-1.jpeg', '../DeepLearning/kermany2018/OCT2017/test/DME/DME-8021831-1.jpeg', '../DeepLearning/kermany2018/OCT2017/test/DME/DME-5768195-1.jpeg', '../DeepLearning/kermany2018/OCT2017/test/DME/DME-8525575-7.jpeg', '../DeepLearning/kermany2018/OCT2017/test/DME/DME-2091157-1.jpeg', '../DeepLearning/kermany2018/OCT2017/test/DME/DME-4079773-1.jpeg', '../DeepLearning/kermany2018/OCT2017/test/DME/DME-7983936-1.jpeg', '../DeepLearning/kermany2018/OCT2017/test/DME/DME-1102486-3.jpeg', '../DeepLearning/kermany2018/OCT2017/test/DME/DME-4732091-2.jpeg', '../DeepLearning/kermany2018/OCT2017/test/DME/DME-9109143-1.jpeg', '../DeepLearning/kermany2018/OCT2017/test/DME/DME-7706610-3.jpeg', '../DeepLearning/kermany2018/OCT2017/test/DME/DME-323904-1.jpeg', '../DeepLearning/kermany2018/OCT2017/test/DME/DME-7939555-3.jpeg', '../DeepLearning/kermany2018/OCT2017/test/DME/DME-5071032-1.jpeg', '../DeepLearning/kermany2018/OCT2017/test/DME/DME-8426419-1.jpeg', '../DeepLearning/kermany2018/OCT2017/test/DME/DME-1430899-1.jpeg', '../DeepLearning/kermany2018/OCT2017/test/DME/DME-3921035-1.jpeg', '../DeepLearning/kermany2018/OCT2017/test/DME/DME-8080050-1.jpeg', '../DeepLearning/kermany2018/OCT2017/test/DME/DME-15208-2.jpeg', '../DeepLearning/kermany2018/OCT2017/test/DME/DME-8732456-1.jpeg', '../DeepLearning/kermany2018/OCT2017/test/DME/DME-8807486-1.jpeg', '../DeepLearning/kermany2018/OCT2017/test/DME/DME-7763916-1.jpeg', '../DeepLearning/kermany2018/OCT2017/test/DME/DME-8525575-3.jpeg', '../DeepLearning/kermany2018/OCT2017/test/DME/DME-269181-3.jpeg', '../DeepLearning/kermany2018/OCT2017/test/DME/DME-8218042-1.jpeg', '../DeepLearning/kermany2018/OCT2017/test/DME/DME-8136649-1.jpeg', '../DeepLearning/kermany2018/OCT2017/test/DME/DME-7239304-1.jpeg', '../DeepLearning/kermany2018/OCT2017/test/DME/DME-138971-1.jpeg', '../DeepLearning/kermany2018/OCT2017/test/DME/DME-4658666-1.jpeg', '../DeepLearning/kermany2018/OCT2017/test/DME/DME-8525575-1.jpeg', '../DeepLearning/kermany2018/OCT2017/test/DME/DME-7837305-3.jpeg', '../DeepLearning/kermany2018/OCT2017/test/DME/DME-8231523-1.jpeg', '../DeepLearning/kermany2018/OCT2017/test/DME/DME-8989419-1.jpeg', '../DeepLearning/kermany2018/OCT2017/test/DME/DME-7870558-1.jpeg', '../DeepLearning/kermany2018/OCT2017/test/DME/DME-8019418-3.jpeg', '../DeepLearning/kermany2018/OCT2017/test/DME/DME-138971-2.jpeg', '../DeepLearning/kermany2018/OCT2017/test/DME/DME-9579219-1.jpeg', '../DeepLearning/kermany2018/OCT2017/test/DME/DME-563695-2.jpeg', '../DeepLearning/kermany2018/OCT2017/test/DME/DME-8525575-2.jpeg', '../DeepLearning/kermany2018/OCT2017/test/DME/DME-8167779-1.jpeg', '../DeepLearning/kermany2018/OCT2017/test/DME/DME-7928636-2.jpeg', '../DeepLearning/kermany2018/OCT2017/test/DME/DME-30521-4.jpeg', '../DeepLearning/kermany2018/OCT2017/test/DME/DME-8019418-2.jpeg', '../DeepLearning/kermany2018/OCT2017/test/DME/DME-9378346-1.jpeg', '../DeepLearning/kermany2018/OCT2017/test/DME/DME-8056259-1.jpeg', '../DeepLearning/kermany2018/OCT2017/test/DME/DME-4298019-1.jpeg', '../DeepLearning/kermany2018/OCT2017/test/DME/DME-5434248-1.jpeg', '../DeepLearning/kermany2018/OCT2017/test/DME/DME-8602716-3.jpeg', '../DeepLearning/kermany2018/OCT2017/test/DME/DME-5864085-1.jpeg', '../DeepLearning/kermany2018/OCT2017/test/DME/DME-8525575-5.jpeg', '../DeepLearning/kermany2018/OCT2017/test/DME/DME-7194085-1.jpeg', '../DeepLearning/kermany2018/OCT2017/test/DME/DME-6090983-1.jpeg', '../DeepLearning/kermany2018/OCT2017/test/DME/DME-1479682-1.jpeg', '../DeepLearning/kermany2018/OCT2017/test/DME/DME-4117019-1.jpeg', '../DeepLearning/kermany2018/OCT2017/test/DME/DME-8889771-4.jpeg', '../DeepLearning/kermany2018/OCT2017/test/DME/DME-5912153-1.jpeg', '../DeepLearning/kermany2018/OCT2017/test/DME/DME-6383847-1.jpeg', '../DeepLearning/kermany2018/OCT2017/test/DME/DME-70266-3.jpeg', '../DeepLearning/kermany2018/OCT2017/test/DME/DME-3791742-1.jpeg', '../DeepLearning/kermany2018/OCT2017/test/DME/DME-4940184-1.jpeg', '../DeepLearning/kermany2018/OCT2017/test/DME/DME-3731953-1.jpeg', '../DeepLearning/kermany2018/OCT2017/test/DME/DME-9333524-1.jpeg', '../DeepLearning/kermany2018/OCT2017/test/DME/DME-98994-2.jpeg', '../DeepLearning/kermany2018/OCT2017/test/DME/DME-9361825-1.jpeg', '../DeepLearning/kermany2018/OCT2017/test/DME/DME-7928636-1.jpeg', '../DeepLearning/kermany2018/OCT2017/test/DME/DME-1274315-1.jpeg', '../DeepLearning/kermany2018/OCT2017/test/DME/DME-5656004-1.jpeg', '../DeepLearning/kermany2018/OCT2017/test/DME/DME-5843591-1.jpeg', '../DeepLearning/kermany2018/OCT2017/test/DME/DME-9488073-2.jpeg', '../DeepLearning/kermany2018/OCT2017/test/DME/DME-1102486-4.jpeg', '../DeepLearning/kermany2018/OCT2017/test/DME/DME-8615417-2.jpeg', '../DeepLearning/kermany2018/OCT2017/test/DME/DME-8861620-1.jpeg', '../DeepLearning/kermany2018/OCT2017/test/DME/DME-8177380-2.jpeg', '../DeepLearning/kermany2018/OCT2017/test/DME/DME-7585263-2.jpeg', '../DeepLearning/kermany2018/OCT2017/test/DME/DME-4804900-1.jpeg', '../DeepLearning/kermany2018/OCT2017/test/DME/DME-3157783-1.jpeg', '../DeepLearning/kermany2018/OCT2017/test/DME/DME-7837305-1.jpeg', '../DeepLearning/kermany2018/OCT2017/test/DME/DME-1102486-1.jpeg', '../DeepLearning/kermany2018/OCT2017/test/DME/DME-15208-1.jpeg', '../DeepLearning/kermany2018/OCT2017/test/DME/DME-7972888-1.jpeg', '../DeepLearning/kermany2018/OCT2017/test/DME/DME-462675-1.jpeg', '../DeepLearning/kermany2018/OCT2017/test/DME/DME-269181-2.jpeg', '../DeepLearning/kermany2018/OCT2017/test/DME/DME-778975-2.jpeg', '../DeepLearning/kermany2018/OCT2017/test/DME/DME-8525575-4.jpeg', '../DeepLearning/kermany2018/OCT2017/test/DME/DME-8177380-3.jpeg', '../DeepLearning/kermany2018/OCT2017/test/DME/DME-7706610-2.jpeg', '../DeepLearning/kermany2018/OCT2017/test/DME/DME-9378346-3.jpeg', '../DeepLearning/kermany2018/OCT2017/test/DME/DME-7939555-5.jpeg', '../DeepLearning/kermany2018/OCT2017/test/DME/DME-7837305-4.jpeg', '../DeepLearning/kermany2018/OCT2017/test/DME/DME-7939555-4.jpeg', '../DeepLearning/kermany2018/OCT2017/test/DME/DME-8635355-2.jpeg', '../DeepLearning/kermany2018/OCT2017/test/DME/DME-7843891-1.jpeg', '../DeepLearning/kermany2018/OCT2017/test/DME/DME-2763635-1.jpeg', '../DeepLearning/kermany2018/OCT2017/test/DME/DME-8861620-3.jpeg', '../DeepLearning/kermany2018/OCT2017/test/DME/DME-4634094-2.jpeg', '../DeepLearning/kermany2018/OCT2017/test/DME/DME-5713682-1.jpeg', '../DeepLearning/kermany2018/OCT2017/test/DME/DME-30521-6.jpeg', '../DeepLearning/kermany2018/OCT2017/test/DME/DME-8615417-1.jpeg', '../DeepLearning/kermany2018/OCT2017/test/DME/DME-5796574-2.jpeg', '../DeepLearning/kermany2018/OCT2017/test/DME/DME-37503-1.jpeg', '../DeepLearning/kermany2018/OCT2017/test/DME/DME-9211360-1.jpeg', '../DeepLearning/kermany2018/OCT2017/test/DME/DME-7756213-1.jpeg', '../DeepLearning/kermany2018/OCT2017/test/DME/DME-563695-1.jpeg', '../DeepLearning/kermany2018/OCT2017/test/DME/DME-8851193-1.jpeg', '../DeepLearning/kermany2018/OCT2017/test/DME/DME-8200056-3.jpeg', '../DeepLearning/kermany2018/OCT2017/test/DME/DME-30521-5.jpeg', '../DeepLearning/kermany2018/OCT2017/test/DME/DME-8602716-4.jpeg', '../DeepLearning/kermany2018/OCT2017/test/DME/DME-8766603-1.jpeg', '../DeepLearning/kermany2018/OCT2017/test/DME/DME-7837305-5.jpeg', '../DeepLearning/kermany2018/OCT2017/test/DME/DME-7503514-1.jpeg', '../DeepLearning/kermany2018/OCT2017/test/DME/DME-8889771-2.jpeg', '../DeepLearning/kermany2018/OCT2017/test/DME/DME-2126962-1.jpeg', '../DeepLearning/kermany2018/OCT2017/test/DME/DME-8525575-8.jpeg', '../DeepLearning/kermany2018/OCT2017/test/DME/DME-6296605-1.jpeg', '../DeepLearning/kermany2018/OCT2017/test/DME/DME-7837305-2.jpeg', '../DeepLearning/kermany2018/OCT2017/test/DME/DME-2630665-1.jpeg', '../DeepLearning/kermany2018/OCT2017/test/DME/DME-8200056-1.jpeg', '../DeepLearning/kermany2018/OCT2017/test/DME/DME-30521-10.jpeg', '../DeepLearning/kermany2018/OCT2017/test/DME/DME-30521-13.jpeg', '../DeepLearning/kermany2018/OCT2017/test/DME/DME-11053-1.jpeg', '../DeepLearning/kermany2018/OCT2017/test/DME/DME-8729675-1.jpeg', '../DeepLearning/kermany2018/OCT2017/test/DME/DME-633268-1.jpeg', '../DeepLearning/kermany2018/OCT2017/test/DME/DME-82328-1.jpeg', '../DeepLearning/kermany2018/OCT2017/test/DME/DME-7990001-1.jpeg', '../DeepLearning/kermany2018/OCT2017/test/DME/DME-9066695-1.jpeg', '../DeepLearning/kermany2018/OCT2017/test/DME/DME-8889771-1.jpeg', '../DeepLearning/kermany2018/OCT2017/test/DME/DME-2261889-1.jpeg', '../DeepLearning/kermany2018/OCT2017/test/DME/DME-9557298-1.jpeg', '../DeepLearning/kermany2018/OCT2017/test/DME/DME-7870558-3.jpeg', '../DeepLearning/kermany2018/OCT2017/test/DME/DME-70266-2.jpeg', '../DeepLearning/kermany2018/OCT2017/test/DME/DME-9241179-1.jpeg', '../DeepLearning/kermany2018/OCT2017/test/DME/DME-2105194-1.jpeg', '../DeepLearning/kermany2018/OCT2017/test/DME/DME-4634094-1.jpeg', '../DeepLearning/kermany2018/OCT2017/test/DME/DME-7918201-2.jpeg', '../DeepLearning/kermany2018/OCT2017/test/DME/DME-7027665-1.jpeg', '../DeepLearning/kermany2018/OCT2017/test/DME/DME-4616882-1.jpeg', '../DeepLearning/kermany2018/OCT2017/test/DME/DME-8602716-2.jpeg', '../DeepLearning/kermany2018/OCT2017/test/DME/DME-8200056-2.jpeg', '../DeepLearning/kermany2018/OCT2017/test/DME/DME-8477096-1.jpeg', '../DeepLearning/kermany2018/OCT2017/test/DME/DME-8177380-1.jpeg']\n"
     ]
    }
   ],
   "source": [
    "base_skin_dir = os.path.join('..', 'DeepLearning/kermany2018/OCT2017/test/DME')\n",
    "locate_filename=glob(os.path.join(base_skin_dir, '*.jpeg'))\n",
    "print(locate_filename)"
   ]
  },
  {
   "cell_type": "code",
   "execution_count": 3,
   "metadata": {},
   "outputs": [
    {
     "name": "stdout",
     "output_type": "stream",
     "text": [
      "['../DeepLearning/kermany2018/OCT2017/test/CNV/CNV-103044-10.jpeg', '../DeepLearning/kermany2018/OCT2017/test/CNV/CNV-5429703-2.jpeg', '../DeepLearning/kermany2018/OCT2017/test/CNV/CNV-779442-1.jpeg', '../DeepLearning/kermany2018/OCT2017/test/CNV/CNV-4740418-1.jpeg', '../DeepLearning/kermany2018/OCT2017/test/CNV/CNV-2192440-2.jpeg', '../DeepLearning/kermany2018/OCT2017/test/CNV/CNV-364469-1.jpeg', '../DeepLearning/kermany2018/OCT2017/test/CNV/CNV-4464785-1.jpeg', '../DeepLearning/kermany2018/OCT2017/test/CNV/CNV-53018-2.jpeg', '../DeepLearning/kermany2018/OCT2017/test/CNV/CNV-954024-1.jpeg', '../DeepLearning/kermany2018/OCT2017/test/CNV/CNV-1016042-3.jpeg', '../DeepLearning/kermany2018/OCT2017/test/CNV/CNV-904464-2.jpeg', '../DeepLearning/kermany2018/OCT2017/test/CNV/CNV-1112835-2.jpeg', '../DeepLearning/kermany2018/OCT2017/test/CNV/CNV-451136-3.jpeg', '../DeepLearning/kermany2018/OCT2017/test/CNV/CNV-2116022-1.jpeg', '../DeepLearning/kermany2018/OCT2017/test/CNV/CNV-3200277-1.jpeg', '../DeepLearning/kermany2018/OCT2017/test/CNV/CNV-1730592-1.jpeg', '../DeepLearning/kermany2018/OCT2017/test/CNV/CNV-2959614-4.jpeg', '../DeepLearning/kermany2018/OCT2017/test/CNV/CNV-4643364-1.jpeg', '../DeepLearning/kermany2018/OCT2017/test/CNV/CNV-1415351-1.jpeg', '../DeepLearning/kermany2018/OCT2017/test/CNV/CNV-3080163-1.jpeg', '../DeepLearning/kermany2018/OCT2017/test/CNV/CNV-1641792-1.jpeg', '../DeepLearning/kermany2018/OCT2017/test/CNV/CNV-2438783-1.jpeg', '../DeepLearning/kermany2018/OCT2017/test/CNV/CNV-781814-1.jpeg', '../DeepLearning/kermany2018/OCT2017/test/CNV/CNV-827677-1.jpeg', '../DeepLearning/kermany2018/OCT2017/test/CNV/CNV-451136-2.jpeg', '../DeepLearning/kermany2018/OCT2017/test/CNV/CNV-5813701-2.jpeg', '../DeepLearning/kermany2018/OCT2017/test/CNV/CNV-1188386-4.jpeg', '../DeepLearning/kermany2018/OCT2017/test/CNV/CNV-5054419-1.jpeg', '../DeepLearning/kermany2018/OCT2017/test/CNV/CNV-3616460-1.jpeg', '../DeepLearning/kermany2018/OCT2017/test/CNV/CNV-172472-2.jpeg', '../DeepLearning/kermany2018/OCT2017/test/CNV/CNV-1130960-1.jpeg', '../DeepLearning/kermany2018/OCT2017/test/CNV/CNV-1784116-1.jpeg', '../DeepLearning/kermany2018/OCT2017/test/CNV/CNV-163081-3.jpeg', '../DeepLearning/kermany2018/OCT2017/test/CNV/CNV-204397-1.jpeg', '../DeepLearning/kermany2018/OCT2017/test/CNV/CNV-163081-10.jpeg', '../DeepLearning/kermany2018/OCT2017/test/CNV/CNV-5431636-1.jpeg', '../DeepLearning/kermany2018/OCT2017/test/CNV/CNV-2025105-1.jpeg', '../DeepLearning/kermany2018/OCT2017/test/CNV/CNV-172472-7.jpeg', '../DeepLearning/kermany2018/OCT2017/test/CNV/CNV-830921-1.jpeg', '../DeepLearning/kermany2018/OCT2017/test/CNV/CNV-5904584-3.jpeg', '../DeepLearning/kermany2018/OCT2017/test/CNV/CNV-1699976-2.jpeg', '../DeepLearning/kermany2018/OCT2017/test/CNV/CNV-794538-1.jpeg', '../DeepLearning/kermany2018/OCT2017/test/CNV/CNV-163081-8.jpeg', '../DeepLearning/kermany2018/OCT2017/test/CNV/CNV-779442-3.jpeg', '../DeepLearning/kermany2018/OCT2017/test/CNV/CNV-163081-1.jpeg', '../DeepLearning/kermany2018/OCT2017/test/CNV/CNV-1641792-2.jpeg', '../DeepLearning/kermany2018/OCT2017/test/CNV/CNV-2959614-3.jpeg', '../DeepLearning/kermany2018/OCT2017/test/CNV/CNV-2541184-1.jpeg', '../DeepLearning/kermany2018/OCT2017/test/CNV/CNV-5429703-1.jpeg', '../DeepLearning/kermany2018/OCT2017/test/CNV/CNV-1305450-2.jpeg', '../DeepLearning/kermany2018/OCT2017/test/CNV/CNV-794538-2.jpeg', '../DeepLearning/kermany2018/OCT2017/test/CNV/CNV-2725524-2.jpeg', '../DeepLearning/kermany2018/OCT2017/test/CNV/CNV-1016042-1.jpeg', '../DeepLearning/kermany2018/OCT2017/test/CNV/CNV-5409617-1.jpeg', '../DeepLearning/kermany2018/OCT2017/test/CNV/CNV-5861916-3.jpeg', '../DeepLearning/kermany2018/OCT2017/test/CNV/CNV-451136-1.jpeg', '../DeepLearning/kermany2018/OCT2017/test/CNV/CNV-417468-1.jpeg', '../DeepLearning/kermany2018/OCT2017/test/CNV/CNV-1290410-2.jpeg', '../DeepLearning/kermany2018/OCT2017/test/CNV/CNV-2350851-1.jpeg', '../DeepLearning/kermany2018/OCT2017/test/CNV/CNV-328435-1.jpeg', '../DeepLearning/kermany2018/OCT2017/test/CNV/CNV-4775389-1.jpeg', '../DeepLearning/kermany2018/OCT2017/test/CNV/CNV-865813-1.jpeg', '../DeepLearning/kermany2018/OCT2017/test/CNV/CNV-987193-2.jpeg', '../DeepLearning/kermany2018/OCT2017/test/CNV/CNV-3424668-1.jpeg', '../DeepLearning/kermany2018/OCT2017/test/CNV/CNV-776149-1.jpeg', '../DeepLearning/kermany2018/OCT2017/test/CNV/CNV-2141150-1.jpeg', '../DeepLearning/kermany2018/OCT2017/test/CNV/CNV-5969175-1.jpeg', '../DeepLearning/kermany2018/OCT2017/test/CNV/CNV-5674369-4.jpeg', '../DeepLearning/kermany2018/OCT2017/test/CNV/CNV-3300060-1.jpeg', '../DeepLearning/kermany2018/OCT2017/test/CNV/CNV-451136-4.jpeg', '../DeepLearning/kermany2018/OCT2017/test/CNV/CNV-103044-2.jpeg', '../DeepLearning/kermany2018/OCT2017/test/CNV/CNV-904464-4.jpeg', '../DeepLearning/kermany2018/OCT2017/test/CNV/CNV-103044-11.jpeg', '../DeepLearning/kermany2018/OCT2017/test/CNV/CNV-457527-1.jpeg', '../DeepLearning/kermany2018/OCT2017/test/CNV/CNV-81630-1.jpeg', '../DeepLearning/kermany2018/OCT2017/test/CNV/CNV-5861916-1.jpeg', '../DeepLearning/kermany2018/OCT2017/test/CNV/CNV-172472-11.jpeg', '../DeepLearning/kermany2018/OCT2017/test/CNV/CNV-4283050-2.jpeg', '../DeepLearning/kermany2018/OCT2017/test/CNV/CNV-1731375-1.jpeg', '../DeepLearning/kermany2018/OCT2017/test/CNV/CNV-2692822-1.jpeg', '../DeepLearning/kermany2018/OCT2017/test/CNV/CNV-103044-8.jpeg', '../DeepLearning/kermany2018/OCT2017/test/CNV/CNV-172472-5.jpeg', '../DeepLearning/kermany2018/OCT2017/test/CNV/CNV-624911-1.jpeg', '../DeepLearning/kermany2018/OCT2017/test/CNV/CNV-4907724-1.jpeg', '../DeepLearning/kermany2018/OCT2017/test/CNV/CNV-1997439-6.jpeg', '../DeepLearning/kermany2018/OCT2017/test/CNV/CNV-3847391-1.jpeg', '../DeepLearning/kermany2018/OCT2017/test/CNV/CNV-1997439-7.jpeg', '../DeepLearning/kermany2018/OCT2017/test/CNV/CNV-3213586-1.jpeg', '../DeepLearning/kermany2018/OCT2017/test/CNV/CNV-3030629-1.jpeg', '../DeepLearning/kermany2018/OCT2017/test/CNV/CNV-3200277-2.jpeg', '../DeepLearning/kermany2018/OCT2017/test/CNV/CNV-451136-7.jpeg', '../DeepLearning/kermany2018/OCT2017/test/CNV/CNV-4274486-1.jpeg', '../DeepLearning/kermany2018/OCT2017/test/CNV/CNV-6053140-1.jpeg', '../DeepLearning/kermany2018/OCT2017/test/CNV/CNV-172472-3.jpeg', '../DeepLearning/kermany2018/OCT2017/test/CNV/CNV-3618489-2.jpeg', '../DeepLearning/kermany2018/OCT2017/test/CNV/CNV-5054419-2.jpeg', '../DeepLearning/kermany2018/OCT2017/test/CNV/CNV-933576-2.jpeg', '../DeepLearning/kermany2018/OCT2017/test/CNV/CNV-779442-2.jpeg', '../DeepLearning/kermany2018/OCT2017/test/CNV/CNV-732516-1.jpeg', '../DeepLearning/kermany2018/OCT2017/test/CNV/CNV-1997439-5.jpeg', '../DeepLearning/kermany2018/OCT2017/test/CNV/CNV-2760476-1.jpeg', '../DeepLearning/kermany2018/OCT2017/test/CNV/CNV-172472-1.jpeg', '../DeepLearning/kermany2018/OCT2017/test/CNV/CNV-5674369-1.jpeg', '../DeepLearning/kermany2018/OCT2017/test/CNV/CNV-172472-10.jpeg', '../DeepLearning/kermany2018/OCT2017/test/CNV/CNV-732516-4.jpeg', '../DeepLearning/kermany2018/OCT2017/test/CNV/CNV-460403-1.jpeg', '../DeepLearning/kermany2018/OCT2017/test/CNV/CNV-1731375-2.jpeg', '../DeepLearning/kermany2018/OCT2017/test/CNV/CNV-5674369-3.jpeg', '../DeepLearning/kermany2018/OCT2017/test/CNV/CNV-1731375-3.jpeg', '../DeepLearning/kermany2018/OCT2017/test/CNV/CNV-2158821-2.jpeg', '../DeepLearning/kermany2018/OCT2017/test/CNV/CNV-2959614-2.jpeg', '../DeepLearning/kermany2018/OCT2017/test/CNV/CNV-5536678-1.jpeg', '../DeepLearning/kermany2018/OCT2017/test/CNV/CNV-81630-3.jpeg', '../DeepLearning/kermany2018/OCT2017/test/CNV/CNV-5861916-4.jpeg', '../DeepLearning/kermany2018/OCT2017/test/CNV/CNV-2192440-1.jpeg', '../DeepLearning/kermany2018/OCT2017/test/CNV/CNV-5557306-1.jpeg', '../DeepLearning/kermany2018/OCT2017/test/CNV/CNV-1305450-4.jpeg', '../DeepLearning/kermany2018/OCT2017/test/CNV/CNV-137351-1.jpeg', '../DeepLearning/kermany2018/OCT2017/test/CNV/CNV-2438783-2.jpeg', '../DeepLearning/kermany2018/OCT2017/test/CNV/CNV-1632795-1.jpeg', '../DeepLearning/kermany2018/OCT2017/test/CNV/CNV-1980926-1.jpeg', '../DeepLearning/kermany2018/OCT2017/test/CNV/CNV-338282-1.jpeg', '../DeepLearning/kermany2018/OCT2017/test/CNV/CNV-4244160-1.jpeg', '../DeepLearning/kermany2018/OCT2017/test/CNV/CNV-1699976-1.jpeg', '../DeepLearning/kermany2018/OCT2017/test/CNV/CNV-4283050-1.jpeg', '../DeepLearning/kermany2018/OCT2017/test/CNV/CNV-3080163-2.jpeg', '../DeepLearning/kermany2018/OCT2017/test/CNV/CNV-1997439-1.jpeg', '../DeepLearning/kermany2018/OCT2017/test/CNV/CNV-1997439-3.jpeg', '../DeepLearning/kermany2018/OCT2017/test/CNV/CNV-1704482-1.jpeg', '../DeepLearning/kermany2018/OCT2017/test/CNV/CNV-538779-2.jpeg', '../DeepLearning/kermany2018/OCT2017/test/CNV/CNV-1699976-3.jpeg', '../DeepLearning/kermany2018/OCT2017/test/CNV/CNV-1177084-1.jpeg', '../DeepLearning/kermany2018/OCT2017/test/CNV/CNV-5813701-3.jpeg', '../DeepLearning/kermany2018/OCT2017/test/CNV/CNV-1083927-1.jpeg', '../DeepLearning/kermany2018/OCT2017/test/CNV/CNV-5674369-5.jpeg', '../DeepLearning/kermany2018/OCT2017/test/CNV/CNV-3241692-1.jpeg', '../DeepLearning/kermany2018/OCT2017/test/CNV/CNV-5431636-2.jpeg', '../DeepLearning/kermany2018/OCT2017/test/CNV/CNV-103044-12.jpeg', '../DeepLearning/kermany2018/OCT2017/test/CNV/CNV-1016042-4.jpeg', '../DeepLearning/kermany2018/OCT2017/test/CNV/CNV-5674369-2.jpeg', '../DeepLearning/kermany2018/OCT2017/test/CNV/CNV-4674526-1.jpeg', '../DeepLearning/kermany2018/OCT2017/test/CNV/CNV-1290410-1.jpeg', '../DeepLearning/kermany2018/OCT2017/test/CNV/CNV-5594757-1.jpeg', '../DeepLearning/kermany2018/OCT2017/test/CNV/CNV-163081-4.jpeg', '../DeepLearning/kermany2018/OCT2017/test/CNV/CNV-5904584-1.jpeg', '../DeepLearning/kermany2018/OCT2017/test/CNV/CNV-5861916-2.jpeg', '../DeepLearning/kermany2018/OCT2017/test/CNV/CNV-1136126-1.jpeg', '../DeepLearning/kermany2018/OCT2017/test/CNV/CNV-933576-1.jpeg', '../DeepLearning/kermany2018/OCT2017/test/CNV/CNV-1699976-4.jpeg', '../DeepLearning/kermany2018/OCT2017/test/CNV/CNV-743852-1.jpeg', '../DeepLearning/kermany2018/OCT2017/test/CNV/CNV-624911-3.jpeg', '../DeepLearning/kermany2018/OCT2017/test/CNV/CNV-6215140-2.jpeg', '../DeepLearning/kermany2018/OCT2017/test/CNV/CNV-198660-1.jpeg', '../DeepLearning/kermany2018/OCT2017/test/CNV/CNV-2158821-1.jpeg', '../DeepLearning/kermany2018/OCT2017/test/CNV/CNV-2632189-1.jpeg', '../DeepLearning/kermany2018/OCT2017/test/CNV/CNV-987193-1.jpeg', '../DeepLearning/kermany2018/OCT2017/test/CNV/CNV-564246-1.jpeg', '../DeepLearning/kermany2018/OCT2017/test/CNV/CNV-2959614-1.jpeg', '../DeepLearning/kermany2018/OCT2017/test/CNV/CNV-154835-1.jpeg', '../DeepLearning/kermany2018/OCT2017/test/CNV/CNV-3618489-1.jpeg', '../DeepLearning/kermany2018/OCT2017/test/CNV/CNV-375851-1.jpeg', '../DeepLearning/kermany2018/OCT2017/test/CNV/CNV-364469-3.jpeg', '../DeepLearning/kermany2018/OCT2017/test/CNV/CNV-163081-6.jpeg', '../DeepLearning/kermany2018/OCT2017/test/CNV/CNV-1894770-1.jpeg', '../DeepLearning/kermany2018/OCT2017/test/CNV/CNV-5969175-2.jpeg', '../DeepLearning/kermany2018/OCT2017/test/CNV/CNV-933576-3.jpeg', '../DeepLearning/kermany2018/OCT2017/test/CNV/CNV-172472-8.jpeg', '../DeepLearning/kermany2018/OCT2017/test/CNV/CNV-103044-7.jpeg', '../DeepLearning/kermany2018/OCT2017/test/CNV/CNV-3241692-2.jpeg', '../DeepLearning/kermany2018/OCT2017/test/CNV/CNV-5457415-1.jpeg', '../DeepLearning/kermany2018/OCT2017/test/CNV/CNV-995513-1.jpeg', '../DeepLearning/kermany2018/OCT2017/test/CNV/CNV-3459091-1.jpeg', '../DeepLearning/kermany2018/OCT2017/test/CNV/CNV-172472-4.jpeg', '../DeepLearning/kermany2018/OCT2017/test/CNV/CNV-163081-2.jpeg', '../DeepLearning/kermany2018/OCT2017/test/CNV/CNV-732516-2.jpeg', '../DeepLearning/kermany2018/OCT2017/test/CNV/CNV-103044-9.jpeg', '../DeepLearning/kermany2018/OCT2017/test/CNV/CNV-3119854-1.jpeg', '../DeepLearning/kermany2018/OCT2017/test/CNV/CNV-933576-4.jpeg', '../DeepLearning/kermany2018/OCT2017/test/CNV/CNV-1016042-2.jpeg', '../DeepLearning/kermany2018/OCT2017/test/CNV/CNV-624911-2.jpeg', '../DeepLearning/kermany2018/OCT2017/test/CNV/CNV-451136-5.jpeg', '../DeepLearning/kermany2018/OCT2017/test/CNV/CNV-457907-1.jpeg', '../DeepLearning/kermany2018/OCT2017/test/CNV/CNV-172472-6.jpeg', '../DeepLearning/kermany2018/OCT2017/test/CNV/CNV-6256161-1.jpeg', '../DeepLearning/kermany2018/OCT2017/test/CNV/CNV-1131664-1.jpeg', '../DeepLearning/kermany2018/OCT2017/test/CNV/CNV-154835-2.jpeg', '../DeepLearning/kermany2018/OCT2017/test/CNV/CNV-364469-2.jpeg', '../DeepLearning/kermany2018/OCT2017/test/CNV/CNV-103044-3.jpeg', '../DeepLearning/kermany2018/OCT2017/test/CNV/CNV-451136-6.jpeg', '../DeepLearning/kermany2018/OCT2017/test/CNV/CNV-103044-5.jpeg', '../DeepLearning/kermany2018/OCT2017/test/CNV/CNV-2177326-1.jpeg', '../DeepLearning/kermany2018/OCT2017/test/CNV/CNV-538779-1.jpeg', '../DeepLearning/kermany2018/OCT2017/test/CNV/CNV-5760454-1.jpeg', '../DeepLearning/kermany2018/OCT2017/test/CNV/CNV-1260317-1.jpeg', '../DeepLearning/kermany2018/OCT2017/test/CNV/CNV-3432812-1.jpeg', '../DeepLearning/kermany2018/OCT2017/test/CNV/CNV-6190971-1.jpeg', '../DeepLearning/kermany2018/OCT2017/test/CNV/CNV-1188386-1.jpeg', '../DeepLearning/kermany2018/OCT2017/test/CNV/CNV-1699976-5.jpeg', '../DeepLearning/kermany2018/OCT2017/test/CNV/CNV-1305450-3.jpeg', '../DeepLearning/kermany2018/OCT2017/test/CNV/CNV-4244160-3.jpeg', '../DeepLearning/kermany2018/OCT2017/test/CNV/CNV-1188386-2.jpeg', '../DeepLearning/kermany2018/OCT2017/test/CNV/CNV-4244160-2.jpeg', '../DeepLearning/kermany2018/OCT2017/test/CNV/CNV-1112835-1.jpeg', '../DeepLearning/kermany2018/OCT2017/test/CNV/CNV-103044-4.jpeg', '../DeepLearning/kermany2018/OCT2017/test/CNV/CNV-5536678-2.jpeg', '../DeepLearning/kermany2018/OCT2017/test/CNV/CNV-163081-7.jpeg', '../DeepLearning/kermany2018/OCT2017/test/CNV/CNV-3734032-1.jpeg', '../DeepLearning/kermany2018/OCT2017/test/CNV/CNV-1188386-3.jpeg', '../DeepLearning/kermany2018/OCT2017/test/CNV/CNV-1730592-2.jpeg', '../DeepLearning/kermany2018/OCT2017/test/CNV/CNV-2141150-2.jpeg', '../DeepLearning/kermany2018/OCT2017/test/CNV/CNV-1305450-1.jpeg', '../DeepLearning/kermany2018/OCT2017/test/CNV/CNV-5861916-5.jpeg', '../DeepLearning/kermany2018/OCT2017/test/CNV/CNV-732516-3.jpeg', '../DeepLearning/kermany2018/OCT2017/test/CNV/CNV-909994-1.jpeg', '../DeepLearning/kermany2018/OCT2017/test/CNV/CNV-5824631-1.jpeg', '../DeepLearning/kermany2018/OCT2017/test/CNV/CNV-1894770-2.jpeg', '../DeepLearning/kermany2018/OCT2017/test/CNV/CNV-6215140-1.jpeg', '../DeepLearning/kermany2018/OCT2017/test/CNV/CNV-904464-1.jpeg', '../DeepLearning/kermany2018/OCT2017/test/CNV/CNV-1290410-3.jpeg', '../DeepLearning/kermany2018/OCT2017/test/CNV/CNV-163081-9.jpeg', '../DeepLearning/kermany2018/OCT2017/test/CNV/CNV-163081-5.jpeg', '../DeepLearning/kermany2018/OCT2017/test/CNV/CNV-5904584-2.jpeg', '../DeepLearning/kermany2018/OCT2017/test/CNV/CNV-218676-1.jpeg', '../DeepLearning/kermany2018/OCT2017/test/CNV/CNV-4974377-1.jpeg', '../DeepLearning/kermany2018/OCT2017/test/CNV/CNV-2168793-1.jpeg', '../DeepLearning/kermany2018/OCT2017/test/CNV/CNV-5603164-1.jpeg', '../DeepLearning/kermany2018/OCT2017/test/CNV/CNV-904464-3.jpeg', '../DeepLearning/kermany2018/OCT2017/test/CNV/CNV-3163547-1.jpeg', '../DeepLearning/kermany2018/OCT2017/test/CNV/CNV-412653-1.jpeg', '../DeepLearning/kermany2018/OCT2017/test/CNV/CNV-53018-1.jpeg', '../DeepLearning/kermany2018/OCT2017/test/CNV/CNV-81630-4.jpeg', '../DeepLearning/kermany2018/OCT2017/test/CNV/CNV-103044-6.jpeg', '../DeepLearning/kermany2018/OCT2017/test/CNV/CNV-3541867-1.jpeg', '../DeepLearning/kermany2018/OCT2017/test/CNV/CNV-1997439-4.jpeg', '../DeepLearning/kermany2018/OCT2017/test/CNV/CNV-81630-2.jpeg', '../DeepLearning/kermany2018/OCT2017/test/CNV/CNV-172472-9.jpeg', '../DeepLearning/kermany2018/OCT2017/test/CNV/CNV-5813701-1.jpeg', '../DeepLearning/kermany2018/OCT2017/test/CNV/CNV-2725524-1.jpeg', '../DeepLearning/kermany2018/OCT2017/test/CNV/CNV-1997439-2.jpeg', '../DeepLearning/kermany2018/OCT2017/test/CNV/CNV-4884091-1.jpeg', '../DeepLearning/kermany2018/OCT2017/test/CNV/CNV-5594757-2.jpeg', '../DeepLearning/kermany2018/OCT2017/test/CNV/CNV-103044-1.jpeg']\n"
     ]
    }
   ],
   "source": [
    "base_skin_dir = os.path.join('..', 'DeepLearning/kermany2018/OCT2017/test/CNV')\n",
    "locate_filename=glob(os.path.join(base_skin_dir, '*.jpeg'))\n",
    "print(locate_filename)"
   ]
  },
  {
   "cell_type": "code",
   "execution_count": 4,
   "metadata": {},
   "outputs": [
    {
     "name": "stdout",
     "output_type": "stream",
     "text": [
      "CNV-103044-10\n"
     ]
    }
   ],
   "source": [
    "len(locate_filename)\n",
    "name = os.path.splitext(os.path.basename(locate_filename[0]))[0]\n",
    "print(name) "
   ]
  },
  {
   "cell_type": "markdown",
   "metadata": {},
   "source": [
    "# 處理圖片大小\n"
   ]
  },
  {
   "cell_type": "code",
   "execution_count": 13,
   "metadata": {},
   "outputs": [
    {
     "name": "stdout",
     "output_type": "stream",
     "text": [
      "242\n"
     ]
    }
   ],
   "source": [
    "for x in locate_filename:\n",
    "    img = Image.open(x)\n",
    "    image_size=img.size\n",
    "    middle=image_size[0]/2\n",
    "    height=image_size[1]\n",
    "    box = (middle-height/2,0,middle+height/2,height)\n",
    "    img = img.crop(box)\n",
    "    name = os.path.splitext(os.path.basename(x))[0]\n",
    "    locate = 'kermany2018/NewSize/test/DME/' + name + '.jpeg'\n",
    "    img.save(locate)\n",
    "image_path = [\"../DeepLearning/kermany2018/NewSize/test/DME\"]\n",
    "#image_path = [\"./data/A\", \"./data/B\"]\n",
    "\n",
    "def preprocess_to_data_file(data_dir_list, ratio=1):\n",
    "\n",
    "    total_list = [] \n",
    "   \n",
    "    '''\n",
    "        create all images into (image path, label) format and write to total_data.txt \n",
    "    ''' \n",
    "    with open('total_data.txt', 'w') as f:\n",
    "        for index, data_dir in enumerate(data_dir_list):\n",
    "            for filename in listdir(data_dir):\n",
    "                #print(\"{} {}\".format(data_dir_list[index]+'/'+filename, index))\n",
    "                f.write('{} {}\\n'.format(data_dir_list[index]+'/'+filename.replace(' ',''), 1))\n",
    "                total_list.append(data_dir_list[index]+'/'+filename.replace(' ','')+' '+str(1))\n",
    "\n",
    "    #print(total_list)\n",
    "    '''\n",
    "        shuffle total_list\n",
    "    ''' \n",
    "    shuffle(total_list)\n",
    "\n",
    "    '''\n",
    "        split total_list to train_list and test_list. \n",
    "        write train_list/test_list into train_data.txt/test_data.txt\n",
    "    ''' \n",
    "#     train_list = total_list[:int(ratio*len(total_list))]\n",
    "    test_list = total_list[:]\n",
    "    print(len(test_list))\n",
    "\n",
    "    \n",
    "\n",
    "    with open('test_data1.txt', 'w') as f:\n",
    "        for i in test_list:\n",
    "            f.write(i+'\\n')\n",
    "\n",
    "\n",
    "\n",
    "preprocess_to_data_file(image_path, 1)"
   ]
  },
  {
   "cell_type": "code",
   "execution_count": 5,
   "metadata": {},
   "outputs": [],
   "source": [
    "for x in locate_filename:\n",
    "    img = Image.open(x)\n",
    "    image_size=img.size\n",
    "    middle=image_size[0]/2\n",
    "    height=image_size[1]\n",
    "    box = (middle-height/2,0,middle+height/2,height)\n",
    "    img = img.crop(box)\n",
    "    name = os.path.splitext(os.path.basename(x))[0]\n",
    "    locate = 'kermany2018/NewSize/test/CNV/' + name + '.jpeg'\n",
    "    img.save(locate)\n",
    "image_path = [\"../DeepLearning/kermany2018/NewSize/test/CNV\"]"
   ]
  },
  {
   "cell_type": "code",
   "execution_count": 6,
   "metadata": {},
   "outputs": [
    {
     "name": "stdout",
     "output_type": "stream",
     "text": [
      "['../DeepLearning/kermany2018/OCT2017/test/DRUSEN/DRUSEN-4878077-2.jpeg', '../DeepLearning/kermany2018/OCT2017/test/DRUSEN/DRUSEN-8549730-5.jpeg', '../DeepLearning/kermany2018/OCT2017/test/DRUSEN/DRUSEN-8261063-5.jpeg', '../DeepLearning/kermany2018/OCT2017/test/DRUSEN/DRUSEN-3214955-1.jpeg', '../DeepLearning/kermany2018/OCT2017/test/DRUSEN/DRUSEN-8605472-1.jpeg', '../DeepLearning/kermany2018/OCT2017/test/DRUSEN/DRUSEN-4666680-1.jpeg', '../DeepLearning/kermany2018/OCT2017/test/DRUSEN/DRUSEN-5801431-1.jpeg', '../DeepLearning/kermany2018/OCT2017/test/DRUSEN/DRUSEN-4878077-6.jpeg', '../DeepLearning/kermany2018/OCT2017/test/DRUSEN/DRUSEN-4878077-3.jpeg', '../DeepLearning/kermany2018/OCT2017/test/DRUSEN/DRUSEN-364469-2.jpeg', '../DeepLearning/kermany2018/OCT2017/test/DRUSEN/DRUSEN-2173657-1.jpeg', '../DeepLearning/kermany2018/OCT2017/test/DRUSEN/DRUSEN-2510299-1.jpeg', '../DeepLearning/kermany2018/OCT2017/test/DRUSEN/DRUSEN-8811857-2.jpeg', '../DeepLearning/kermany2018/OCT2017/test/DRUSEN/DRUSEN-1487749-2.jpeg', '../DeepLearning/kermany2018/OCT2017/test/DRUSEN/DRUSEN-4878077-1.jpeg', '../DeepLearning/kermany2018/OCT2017/test/DRUSEN/DRUSEN-9059831-2.jpeg', '../DeepLearning/kermany2018/OCT2017/test/DRUSEN/DRUSEN-9734808-1.jpeg', '../DeepLearning/kermany2018/OCT2017/test/DRUSEN/DRUSEN-9280370-1.jpeg', '../DeepLearning/kermany2018/OCT2017/test/DRUSEN/DRUSEN-907869-2.jpeg', '../DeepLearning/kermany2018/OCT2017/test/DRUSEN/DRUSEN-9225057-1.jpeg', '../DeepLearning/kermany2018/OCT2017/test/DRUSEN/DRUSEN-1793499-1.jpeg', '../DeepLearning/kermany2018/OCT2017/test/DRUSEN/DRUSEN-8708331-1.jpeg', '../DeepLearning/kermany2018/OCT2017/test/DRUSEN/DRUSEN-8549730-4.jpeg', '../DeepLearning/kermany2018/OCT2017/test/DRUSEN/DRUSEN-4379246-1.jpeg', '../DeepLearning/kermany2018/OCT2017/test/DRUSEN/DRUSEN-7675318-2.jpeg', '../DeepLearning/kermany2018/OCT2017/test/DRUSEN/DRUSEN-9087597-1.jpeg', '../DeepLearning/kermany2018/OCT2017/test/DRUSEN/DRUSEN-4291972-1.jpeg', '../DeepLearning/kermany2018/OCT2017/test/DRUSEN/DRUSEN-5443411-1.jpeg', '../DeepLearning/kermany2018/OCT2017/test/DRUSEN/DRUSEN-7345121-1.jpeg', '../DeepLearning/kermany2018/OCT2017/test/DRUSEN/DRUSEN-7555604-1.jpeg', '../DeepLearning/kermany2018/OCT2017/test/DRUSEN/DRUSEN-6190971-2.jpeg', '../DeepLearning/kermany2018/OCT2017/test/DRUSEN/DRUSEN-1997439-3.jpeg', '../DeepLearning/kermany2018/OCT2017/test/DRUSEN/DRUSEN-4314625-1.jpeg', '../DeepLearning/kermany2018/OCT2017/test/DRUSEN/DRUSEN-1789270-1.jpeg', '../DeepLearning/kermany2018/OCT2017/test/DRUSEN/DRUSEN-4878077-4.jpeg', '../DeepLearning/kermany2018/OCT2017/test/DRUSEN/DRUSEN-2403178-4.jpeg', '../DeepLearning/kermany2018/OCT2017/test/DRUSEN/DRUSEN-956663-1.jpeg', '../DeepLearning/kermany2018/OCT2017/test/DRUSEN/DRUSEN-3439251-1.jpeg', '../DeepLearning/kermany2018/OCT2017/test/DRUSEN/DRUSEN-1237848-1.jpeg', '../DeepLearning/kermany2018/OCT2017/test/DRUSEN/DRUSEN-1786810-1.jpeg', '../DeepLearning/kermany2018/OCT2017/test/DRUSEN/DRUSEN-349021-2.jpeg', '../DeepLearning/kermany2018/OCT2017/test/DRUSEN/DRUSEN-9155039-1.jpeg', '../DeepLearning/kermany2018/OCT2017/test/DRUSEN/DRUSEN-2180220-1.jpeg', '../DeepLearning/kermany2018/OCT2017/test/DRUSEN/DRUSEN-1225603-2.jpeg', '../DeepLearning/kermany2018/OCT2017/test/DRUSEN/DRUSEN-9689334-1.jpeg', '../DeepLearning/kermany2018/OCT2017/test/DRUSEN/DRUSEN-2141150-1.jpeg', '../DeepLearning/kermany2018/OCT2017/test/DRUSEN/DRUSEN-2253582-1.jpeg', '../DeepLearning/kermany2018/OCT2017/test/DRUSEN/DRUSEN-3424668-4.jpeg', '../DeepLearning/kermany2018/OCT2017/test/DRUSEN/DRUSEN-7350225-1.jpeg', '../DeepLearning/kermany2018/OCT2017/test/DRUSEN/DRUSEN-95633-1.jpeg', '../DeepLearning/kermany2018/OCT2017/test/DRUSEN/DRUSEN-609387-3.jpeg', '../DeepLearning/kermany2018/OCT2017/test/DRUSEN/DRUSEN-8345703-2.jpeg', '../DeepLearning/kermany2018/OCT2017/test/DRUSEN/DRUSEN-3276918-1.jpeg', '../DeepLearning/kermany2018/OCT2017/test/DRUSEN/DRUSEN-3424668-2.jpeg', '../DeepLearning/kermany2018/OCT2017/test/DRUSEN/DRUSEN-8292670-1.jpeg', '../DeepLearning/kermany2018/OCT2017/test/DRUSEN/DRUSEN-8440718-4.jpeg', '../DeepLearning/kermany2018/OCT2017/test/DRUSEN/DRUSEN-1083159-1.jpeg', '../DeepLearning/kermany2018/OCT2017/test/DRUSEN/DRUSEN-4293095-2.jpeg', '../DeepLearning/kermany2018/OCT2017/test/DRUSEN/DRUSEN-1997439-1.jpeg', '../DeepLearning/kermany2018/OCT2017/test/DRUSEN/DRUSEN-228939-1.jpeg', '../DeepLearning/kermany2018/OCT2017/test/DRUSEN/DRUSEN-8870525-3.jpeg', '../DeepLearning/kermany2018/OCT2017/test/DRUSEN/DRUSEN-732516-1.jpeg', '../DeepLearning/kermany2018/OCT2017/test/DRUSEN/DRUSEN-8389446-2.jpeg', '../DeepLearning/kermany2018/OCT2017/test/DRUSEN/DRUSEN-9087597-2.jpeg', '../DeepLearning/kermany2018/OCT2017/test/DRUSEN/DRUSEN-8389446-1.jpeg', '../DeepLearning/kermany2018/OCT2017/test/DRUSEN/DRUSEN-4951152-1.jpeg', '../DeepLearning/kermany2018/OCT2017/test/DRUSEN/DRUSEN-7555604-2.jpeg', '../DeepLearning/kermany2018/OCT2017/test/DRUSEN/DRUSEN-8440718-5.jpeg', '../DeepLearning/kermany2018/OCT2017/test/DRUSEN/DRUSEN-2785977-1.jpeg', '../DeepLearning/kermany2018/OCT2017/test/DRUSEN/DRUSEN-8440718-3.jpeg', '../DeepLearning/kermany2018/OCT2017/test/DRUSEN/DRUSEN-4973287-1.jpeg', '../DeepLearning/kermany2018/OCT2017/test/DRUSEN/DRUSEN-7675318-1.jpeg', '../DeepLearning/kermany2018/OCT2017/test/DRUSEN/DRUSEN-2257047-1.jpeg', '../DeepLearning/kermany2018/OCT2017/test/DRUSEN/DRUSEN-2257047-7.jpeg', '../DeepLearning/kermany2018/OCT2017/test/DRUSEN/DRUSEN-1786810-3.jpeg', '../DeepLearning/kermany2018/OCT2017/test/DRUSEN/DRUSEN-5929729-1.jpeg', '../DeepLearning/kermany2018/OCT2017/test/DRUSEN/DRUSEN-9225057-2.jpeg', '../DeepLearning/kermany2018/OCT2017/test/DRUSEN/DRUSEN-303435-1.jpeg', '../DeepLearning/kermany2018/OCT2017/test/DRUSEN/DRUSEN-5477211-2.jpeg', '../DeepLearning/kermany2018/OCT2017/test/DRUSEN/DRUSEN-8074563-3.jpeg', '../DeepLearning/kermany2018/OCT2017/test/DRUSEN/DRUSEN-8351260-1.jpeg', '../DeepLearning/kermany2018/OCT2017/test/DRUSEN/DRUSEN-8854406-1.jpeg', '../DeepLearning/kermany2018/OCT2017/test/DRUSEN/DRUSEN-8389446-3.jpeg', '../DeepLearning/kermany2018/OCT2017/test/DRUSEN/DRUSEN-2257047-3.jpeg', '../DeepLearning/kermany2018/OCT2017/test/DRUSEN/DRUSEN-8870525-2.jpeg', '../DeepLearning/kermany2018/OCT2017/test/DRUSEN/DRUSEN-6190971-1.jpeg', '../DeepLearning/kermany2018/OCT2017/test/DRUSEN/DRUSEN-364469-4.jpeg', '../DeepLearning/kermany2018/OCT2017/test/DRUSEN/DRUSEN-8117834-1.jpeg', '../DeepLearning/kermany2018/OCT2017/test/DRUSEN/DRUSEN-781814-1.jpeg', '../DeepLearning/kermany2018/OCT2017/test/DRUSEN/DRUSEN-349021-1.jpeg', '../DeepLearning/kermany2018/OCT2017/test/DRUSEN/DRUSEN-3276918-2.jpeg', '../DeepLearning/kermany2018/OCT2017/test/DRUSEN/DRUSEN-1530990-1.jpeg', '../DeepLearning/kermany2018/OCT2017/test/DRUSEN/DRUSEN-8261063-3.jpeg', '../DeepLearning/kermany2018/OCT2017/test/DRUSEN/DRUSEN-4666680-2.jpeg', '../DeepLearning/kermany2018/OCT2017/test/DRUSEN/DRUSEN-1246453-1.jpeg', '../DeepLearning/kermany2018/OCT2017/test/DRUSEN/DRUSEN-8440718-1.jpeg', '../DeepLearning/kermany2018/OCT2017/test/DRUSEN/DRUSEN-609387-2.jpeg', '../DeepLearning/kermany2018/OCT2017/test/DRUSEN/DRUSEN-1193659-1.jpeg', '../DeepLearning/kermany2018/OCT2017/test/DRUSEN/DRUSEN-4240777-1.jpeg', '../DeepLearning/kermany2018/OCT2017/test/DRUSEN/DRUSEN-4379246-2.jpeg', '../DeepLearning/kermany2018/OCT2017/test/DRUSEN/DRUSEN-2489093-1.jpeg', '../DeepLearning/kermany2018/OCT2017/test/DRUSEN/DRUSEN-8086850-1.jpeg', '../DeepLearning/kermany2018/OCT2017/test/DRUSEN/DRUSEN-8656509-1.jpeg', '../DeepLearning/kermany2018/OCT2017/test/DRUSEN/DRUSEN-2510299-2.jpeg', '../DeepLearning/kermany2018/OCT2017/test/DRUSEN/DRUSEN-8086850-5.jpeg', '../DeepLearning/kermany2018/OCT2017/test/DRUSEN/DRUSEN-6193297-3.jpeg', '../DeepLearning/kermany2018/OCT2017/test/DRUSEN/DRUSEN-8086850-4.jpeg', '../DeepLearning/kermany2018/OCT2017/test/DRUSEN/DRUSEN-8811857-1.jpeg', '../DeepLearning/kermany2018/OCT2017/test/DRUSEN/DRUSEN-7563760-1.jpeg', '../DeepLearning/kermany2018/OCT2017/test/DRUSEN/DRUSEN-9049813-1.jpeg', '../DeepLearning/kermany2018/OCT2017/test/DRUSEN/DRUSEN-4904794-1.jpeg', '../DeepLearning/kermany2018/OCT2017/test/DRUSEN/DRUSEN-5710007-2.jpeg', '../DeepLearning/kermany2018/OCT2017/test/DRUSEN/DRUSEN-9504181-2.jpeg', '../DeepLearning/kermany2018/OCT2017/test/DRUSEN/DRUSEN-9800172-1.jpeg', '../DeepLearning/kermany2018/OCT2017/test/DRUSEN/DRUSEN-1225603-1.jpeg', '../DeepLearning/kermany2018/OCT2017/test/DRUSEN/DRUSEN-8213975-1.jpeg', '../DeepLearning/kermany2018/OCT2017/test/DRUSEN/DRUSEN-2489093-2.jpeg', '../DeepLearning/kermany2018/OCT2017/test/DRUSEN/DRUSEN-6193297-1.jpeg', '../DeepLearning/kermany2018/OCT2017/test/DRUSEN/DRUSEN-4293095-1.jpeg', '../DeepLearning/kermany2018/OCT2017/test/DRUSEN/DRUSEN-8074563-1.jpeg', '../DeepLearning/kermany2018/OCT2017/test/DRUSEN/DRUSEN-8549730-6.jpeg', '../DeepLearning/kermany2018/OCT2017/test/DRUSEN/DRUSEN-9059831-1.jpeg', '../DeepLearning/kermany2018/OCT2017/test/DRUSEN/DRUSEN-584218-1.jpeg', '../DeepLearning/kermany2018/OCT2017/test/DRUSEN/DRUSEN-7513011-1.jpeg', '../DeepLearning/kermany2018/OCT2017/test/DRUSEN/DRUSEN-8261063-1.jpeg', '../DeepLearning/kermany2018/OCT2017/test/DRUSEN/DRUSEN-1997439-2.jpeg', '../DeepLearning/kermany2018/OCT2017/test/DRUSEN/DRUSEN-2403178-1.jpeg', '../DeepLearning/kermany2018/OCT2017/test/DRUSEN/DRUSEN-9624303-1.jpeg', '../DeepLearning/kermany2018/OCT2017/test/DRUSEN/DRUSEN-1730592-1.jpeg', '../DeepLearning/kermany2018/OCT2017/test/DRUSEN/DRUSEN-1487749-3.jpeg', '../DeepLearning/kermany2018/OCT2017/test/DRUSEN/DRUSEN-732516-2.jpeg', '../DeepLearning/kermany2018/OCT2017/test/DRUSEN/DRUSEN-7199590-1.jpeg', '../DeepLearning/kermany2018/OCT2017/test/DRUSEN/DRUSEN-8261063-2.jpeg', '../DeepLearning/kermany2018/OCT2017/test/DRUSEN/DRUSEN-2257047-4.jpeg', '../DeepLearning/kermany2018/OCT2017/test/DRUSEN/DRUSEN-2257047-6.jpeg', '../DeepLearning/kermany2018/OCT2017/test/DRUSEN/DRUSEN-3439251-2.jpeg', '../DeepLearning/kermany2018/OCT2017/test/DRUSEN/DRUSEN-5477211-1.jpeg', '../DeepLearning/kermany2018/OCT2017/test/DRUSEN/DRUSEN-2128644-2.jpeg', '../DeepLearning/kermany2018/OCT2017/test/DRUSEN/DRUSEN-8549730-3.jpeg', '../DeepLearning/kermany2018/OCT2017/test/DRUSEN/DRUSEN-8086850-6.jpeg', '../DeepLearning/kermany2018/OCT2017/test/DRUSEN/DRUSEN-525301-1.jpeg', '../DeepLearning/kermany2018/OCT2017/test/DRUSEN/DRUSEN-364469-3.jpeg', '../DeepLearning/kermany2018/OCT2017/test/DRUSEN/DRUSEN-7763772-1.jpeg', '../DeepLearning/kermany2018/OCT2017/test/DRUSEN/DRUSEN-987193-1.jpeg', '../DeepLearning/kermany2018/OCT2017/test/DRUSEN/DRUSEN-8549730-1.jpeg', '../DeepLearning/kermany2018/OCT2017/test/DRUSEN/DRUSEN-8345703-1.jpeg', '../DeepLearning/kermany2018/OCT2017/test/DRUSEN/DRUSEN-7710023-1.jpeg', '../DeepLearning/kermany2018/OCT2017/test/DRUSEN/DRUSEN-6193297-2.jpeg', '../DeepLearning/kermany2018/OCT2017/test/DRUSEN/DRUSEN-783692-1.jpeg', '../DeepLearning/kermany2018/OCT2017/test/DRUSEN/DRUSEN-7393104-1.jpeg', '../DeepLearning/kermany2018/OCT2017/test/DRUSEN/DRUSEN-2403178-6.jpeg', '../DeepLearning/kermany2018/OCT2017/test/DRUSEN/DRUSEN-2108193-2.jpeg', '../DeepLearning/kermany2018/OCT2017/test/DRUSEN/DRUSEN-1237848-2.jpeg', '../DeepLearning/kermany2018/OCT2017/test/DRUSEN/DRUSEN-3424668-1.jpeg', '../DeepLearning/kermany2018/OCT2017/test/DRUSEN/DRUSEN-4878077-5.jpeg', '../DeepLearning/kermany2018/OCT2017/test/DRUSEN/DRUSEN-2257047-2.jpeg', '../DeepLearning/kermany2018/OCT2017/test/DRUSEN/DRUSEN-609387-1.jpeg', '../DeepLearning/kermany2018/OCT2017/test/DRUSEN/DRUSEN-9442692-1.jpeg', '../DeepLearning/kermany2018/OCT2017/test/DRUSEN/DRUSEN-2403178-5.jpeg', '../DeepLearning/kermany2018/OCT2017/test/DRUSEN/DRUSEN-5710007-1.jpeg', '../DeepLearning/kermany2018/OCT2017/test/DRUSEN/DRUSEN-8549730-7.jpeg', '../DeepLearning/kermany2018/OCT2017/test/DRUSEN/DRUSEN-1786810-2.jpeg', '../DeepLearning/kermany2018/OCT2017/test/DRUSEN/DRUSEN-9201573-1.jpeg', '../DeepLearning/kermany2018/OCT2017/test/DRUSEN/DRUSEN-9734808-2.jpeg', '../DeepLearning/kermany2018/OCT2017/test/DRUSEN/DRUSEN-4343867-1.jpeg', '../DeepLearning/kermany2018/OCT2017/test/DRUSEN/DRUSEN-7915033-3.jpeg', '../DeepLearning/kermany2018/OCT2017/test/DRUSEN/DRUSEN-2128644-3.jpeg', '../DeepLearning/kermany2018/OCT2017/test/DRUSEN/DRUSEN-8281517-1.jpeg', '../DeepLearning/kermany2018/OCT2017/test/DRUSEN/DRUSEN-5094722-1.jpeg', '../DeepLearning/kermany2018/OCT2017/test/DRUSEN/DRUSEN-6193297-5.jpeg', '../DeepLearning/kermany2018/OCT2017/test/DRUSEN/DRUSEN-8251771-1.jpeg', '../DeepLearning/kermany2018/OCT2017/test/DRUSEN/DRUSEN-7064008-1.jpeg', '../DeepLearning/kermany2018/OCT2017/test/DRUSEN/DRUSEN-8870525-1.jpeg', '../DeepLearning/kermany2018/OCT2017/test/DRUSEN/DRUSEN-2156263-1.jpeg', '../DeepLearning/kermany2018/OCT2017/test/DRUSEN/DRUSEN-5864720-2.jpeg', '../DeepLearning/kermany2018/OCT2017/test/DRUSEN/DRUSEN-364469-1.jpeg', '../DeepLearning/kermany2018/OCT2017/test/DRUSEN/DRUSEN-8086850-7.jpeg', '../DeepLearning/kermany2018/OCT2017/test/DRUSEN/DRUSEN-4696998-1.jpeg', '../DeepLearning/kermany2018/OCT2017/test/DRUSEN/DRUSEN-2185112-2.jpeg', '../DeepLearning/kermany2018/OCT2017/test/DRUSEN/DRUSEN-3571629-1.jpeg', '../DeepLearning/kermany2018/OCT2017/test/DRUSEN/DRUSEN-3017923-1.jpeg', '../DeepLearning/kermany2018/OCT2017/test/DRUSEN/DRUSEN-2257047-5.jpeg', '../DeepLearning/kermany2018/OCT2017/test/DRUSEN/DRUSEN-7915033-1.jpeg', '../DeepLearning/kermany2018/OCT2017/test/DRUSEN/DRUSEN-8351260-2.jpeg', '../DeepLearning/kermany2018/OCT2017/test/DRUSEN/DRUSEN-4343867-2.jpeg', '../DeepLearning/kermany2018/OCT2017/test/DRUSEN/DRUSEN-7915033-2.jpeg', '../DeepLearning/kermany2018/OCT2017/test/DRUSEN/DRUSEN-2403178-3.jpeg', '../DeepLearning/kermany2018/OCT2017/test/DRUSEN/DRUSEN-1237848-3.jpeg', '../DeepLearning/kermany2018/OCT2017/test/DRUSEN/DRUSEN-7373858-1.jpeg', '../DeepLearning/kermany2018/OCT2017/test/DRUSEN/DRUSEN-8577392-1.jpeg', '../DeepLearning/kermany2018/OCT2017/test/DRUSEN/DRUSEN-1997439-4.jpeg', '../DeepLearning/kermany2018/OCT2017/test/DRUSEN/DRUSEN-5864720-1.jpeg', '../DeepLearning/kermany2018/OCT2017/test/DRUSEN/DRUSEN-457907-1.jpeg', '../DeepLearning/kermany2018/OCT2017/test/DRUSEN/DRUSEN-2232211-1.jpeg', '../DeepLearning/kermany2018/OCT2017/test/DRUSEN/DRUSEN-8039905-1.jpeg', '../DeepLearning/kermany2018/OCT2017/test/DRUSEN/DRUSEN-8261063-6.jpeg', '../DeepLearning/kermany2018/OCT2017/test/DRUSEN/DRUSEN-6193297-4.jpeg', '../DeepLearning/kermany2018/OCT2017/test/DRUSEN/DRUSEN-2185112-1.jpeg', '../DeepLearning/kermany2018/OCT2017/test/DRUSEN/DRUSEN-2541184-1.jpeg', '../DeepLearning/kermany2018/OCT2017/test/DRUSEN/DRUSEN-8023853-1.jpeg', '../DeepLearning/kermany2018/OCT2017/test/DRUSEN/DRUSEN-3482415-1.jpeg', '../DeepLearning/kermany2018/OCT2017/test/DRUSEN/DRUSEN-6264369-1.jpeg', '../DeepLearning/kermany2018/OCT2017/test/DRUSEN/DRUSEN-1487749-1.jpeg', '../DeepLearning/kermany2018/OCT2017/test/DRUSEN/DRUSEN-1112835-1.jpeg', '../DeepLearning/kermany2018/OCT2017/test/DRUSEN/DRUSEN-907869-1.jpeg', '../DeepLearning/kermany2018/OCT2017/test/DRUSEN/DRUSEN-2951435-1.jpeg', '../DeepLearning/kermany2018/OCT2017/test/DRUSEN/DRUSEN-1173253-1.jpeg', '../DeepLearning/kermany2018/OCT2017/test/DRUSEN/DRUSEN-2308158-1.jpeg', '../DeepLearning/kermany2018/OCT2017/test/DRUSEN/DRUSEN-2443068-1.jpeg', '../DeepLearning/kermany2018/OCT2017/test/DRUSEN/DRUSEN-2128644-1.jpeg', '../DeepLearning/kermany2018/OCT2017/test/DRUSEN/DRUSEN-9504181-1.jpeg', '../DeepLearning/kermany2018/OCT2017/test/DRUSEN/DRUSEN-8339642-1.jpeg', '../DeepLearning/kermany2018/OCT2017/test/DRUSEN/DRUSEN-9642260-1.jpeg', '../DeepLearning/kermany2018/OCT2017/test/DRUSEN/DRUSEN-8074563-2.jpeg', '../DeepLearning/kermany2018/OCT2017/test/DRUSEN/DRUSEN-732516-3.jpeg', '../DeepLearning/kermany2018/OCT2017/test/DRUSEN/DRUSEN-5331157-1.jpeg', '../DeepLearning/kermany2018/OCT2017/test/DRUSEN/DRUSEN-3317878-1.jpeg', '../DeepLearning/kermany2018/OCT2017/test/DRUSEN/DRUSEN-1912508-1.jpeg', '../DeepLearning/kermany2018/OCT2017/test/DRUSEN/DRUSEN-8854406-2.jpeg', '../DeepLearning/kermany2018/OCT2017/test/DRUSEN/DRUSEN-8440718-2.jpeg', '../DeepLearning/kermany2018/OCT2017/test/DRUSEN/DRUSEN-2108193-1.jpeg', '../DeepLearning/kermany2018/OCT2017/test/DRUSEN/DRUSEN-2403178-2.jpeg', '../DeepLearning/kermany2018/OCT2017/test/DRUSEN/DRUSEN-5753467-1.jpeg', '../DeepLearning/kermany2018/OCT2017/test/DRUSEN/DRUSEN-2257047-8.jpeg', '../DeepLearning/kermany2018/OCT2017/test/DRUSEN/DRUSEN-4304015-1.jpeg', '../DeepLearning/kermany2018/OCT2017/test/DRUSEN/DRUSEN-7710023-2.jpeg', '../DeepLearning/kermany2018/OCT2017/test/DRUSEN/DRUSEN-3424668-3.jpeg', '../DeepLearning/kermany2018/OCT2017/test/DRUSEN/DRUSEN-8086850-2.jpeg', '../DeepLearning/kermany2018/OCT2017/test/DRUSEN/DRUSEN-3241692-1.jpeg', '../DeepLearning/kermany2018/OCT2017/test/DRUSEN/DRUSEN-7557808-1.jpeg', '../DeepLearning/kermany2018/OCT2017/test/DRUSEN/DRUSEN-827677-1.jpeg', '../DeepLearning/kermany2018/OCT2017/test/DRUSEN/DRUSEN-228939-2.jpeg', '../DeepLearning/kermany2018/OCT2017/test/DRUSEN/DRUSEN-8086850-8.jpeg', '../DeepLearning/kermany2018/OCT2017/test/DRUSEN/DRUSEN-538779-1.jpeg', '../DeepLearning/kermany2018/OCT2017/test/DRUSEN/DRUSEN-8549730-2.jpeg', '../DeepLearning/kermany2018/OCT2017/test/DRUSEN/DRUSEN-8261063-7.jpeg', '../DeepLearning/kermany2018/OCT2017/test/DRUSEN/DRUSEN-9624303-2.jpeg', '../DeepLearning/kermany2018/OCT2017/test/DRUSEN/DRUSEN-8086850-3.jpeg', '../DeepLearning/kermany2018/OCT2017/test/DRUSEN/DRUSEN-8319985-1.jpeg', '../DeepLearning/kermany2018/OCT2017/test/DRUSEN/DRUSEN-8261063-4.jpeg', '../DeepLearning/kermany2018/OCT2017/test/DRUSEN/DRUSEN-1219727-1.jpeg', '../DeepLearning/kermany2018/OCT2017/test/DRUSEN/DRUSEN-1487749-4.jpeg']\n",
      "DRUSEN-4878077-2\n"
     ]
    }
   ],
   "source": [
    "base_skin_dir = os.path.join('..', 'DeepLearning/kermany2018/OCT2017/test/DRUSEN')\n",
    "locate_filename=glob(os.path.join(base_skin_dir, '*.jpeg'))\n",
    "print(locate_filename)\n",
    "\n",
    "name = os.path.splitext(os.path.basename(locate_filename[0]))[0]\n",
    "print(name) \n",
    "for x in locate_filename:\n",
    "    img = Image.open(x)\n",
    "    image_size=img.size\n",
    "    middle=image_size[0]/2\n",
    "    height=image_size[1]\n",
    "    box = (middle-height/2,0,middle+height/2,height)\n",
    "    img = img.crop(box)\n",
    "    name = os.path.splitext(os.path.basename(x))[0]\n",
    "    locate = 'kermany2018/NewSize/test/DRUSEN/' + name + '.jpeg'\n",
    "    img.save(locate)\n",
    "image_path = [\"../DeepLearning/kermany2018/NewSize/test/DRUSEN\"]"
   ]
  },
  {
   "cell_type": "code",
   "execution_count": 7,
   "metadata": {},
   "outputs": [
    {
     "name": "stdout",
     "output_type": "stream",
     "text": [
      "['../DeepLearning/kermany2018/OCT2017/test/NORMAL/NORMAL-1081406-1.jpeg', '../DeepLearning/kermany2018/OCT2017/test/NORMAL/NORMAL-664536-1.jpeg', '../DeepLearning/kermany2018/OCT2017/test/NORMAL/NORMAL-2113822-1.jpeg', '../DeepLearning/kermany2018/OCT2017/test/NORMAL/NORMAL-450532-1.jpeg', '../DeepLearning/kermany2018/OCT2017/test/NORMAL/NORMAL-402066-2.jpeg', '../DeepLearning/kermany2018/OCT2017/test/NORMAL/NORMAL-2436365-1.jpeg', '../DeepLearning/kermany2018/OCT2017/test/NORMAL/NORMAL-402066-1.jpeg', '../DeepLearning/kermany2018/OCT2017/test/NORMAL/NORMAL-2158556-1.jpeg', '../DeepLearning/kermany2018/OCT2017/test/NORMAL/NORMAL-138971-1.jpeg', '../DeepLearning/kermany2018/OCT2017/test/NORMAL/NORMAL-101880-1.jpeg', '../DeepLearning/kermany2018/OCT2017/test/NORMAL/NORMAL-557437-1.jpeg', '../DeepLearning/kermany2018/OCT2017/test/NORMAL/NORMAL-12494-2.jpeg', '../DeepLearning/kermany2018/OCT2017/test/NORMAL/NORMAL-2397754-1.jpeg', '../DeepLearning/kermany2018/OCT2017/test/NORMAL/NORMAL-3134896-1.jpeg', '../DeepLearning/kermany2018/OCT2017/test/NORMAL/NORMAL-36734-1.jpeg', '../DeepLearning/kermany2018/OCT2017/test/NORMAL/NORMAL-366503-1.jpeg', '../DeepLearning/kermany2018/OCT2017/test/NORMAL/NORMAL-1017237-1.jpeg', '../DeepLearning/kermany2018/OCT2017/test/NORMAL/NORMAL-3256489-1.jpeg', '../DeepLearning/kermany2018/OCT2017/test/NORMAL/NORMAL-565818-1.jpeg', '../DeepLearning/kermany2018/OCT2017/test/NORMAL/NORMAL-98720-1.jpeg', '../DeepLearning/kermany2018/OCT2017/test/NORMAL/NORMAL-3531215-1.jpeg', '../DeepLearning/kermany2018/OCT2017/test/NORMAL/NORMAL-3538316-1.jpeg', '../DeepLearning/kermany2018/OCT2017/test/NORMAL/NORMAL-12494-3.jpeg', '../DeepLearning/kermany2018/OCT2017/test/NORMAL/NORMAL-338568-1.jpeg', '../DeepLearning/kermany2018/OCT2017/test/NORMAL/NORMAL-2416187-1.jpeg', '../DeepLearning/kermany2018/OCT2017/test/NORMAL/NORMAL-460711-1.jpeg', '../DeepLearning/kermany2018/OCT2017/test/NORMAL/NORMAL-3361750-1.jpeg', '../DeepLearning/kermany2018/OCT2017/test/NORMAL/NORMAL-307151-2.jpeg', '../DeepLearning/kermany2018/OCT2017/test/NORMAL/NORMAL-2335256-1.jpeg', '../DeepLearning/kermany2018/OCT2017/test/NORMAL/NORMAL-552739-1.jpeg', '../DeepLearning/kermany2018/OCT2017/test/NORMAL/NORMAL-566040-1.jpeg', '../DeepLearning/kermany2018/OCT2017/test/NORMAL/NORMAL-2120559-3.jpeg', '../DeepLearning/kermany2018/OCT2017/test/NORMAL/NORMAL-2579419-1.jpeg', '../DeepLearning/kermany2018/OCT2017/test/NORMAL/NORMAL-655117-1.jpeg', '../DeepLearning/kermany2018/OCT2017/test/NORMAL/NORMAL-438684-2.jpeg', '../DeepLearning/kermany2018/OCT2017/test/NORMAL/NORMAL-1781140-1.jpeg', '../DeepLearning/kermany2018/OCT2017/test/NORMAL/NORMAL-469935-1.jpeg', '../DeepLearning/kermany2018/OCT2017/test/NORMAL/NORMAL-2075832-1.jpeg', '../DeepLearning/kermany2018/OCT2017/test/NORMAL/NORMAL-351109-1.jpeg', '../DeepLearning/kermany2018/OCT2017/test/NORMAL/NORMAL-3100637-1.jpeg', '../DeepLearning/kermany2018/OCT2017/test/NORMAL/NORMAL-197082-1.jpeg', '../DeepLearning/kermany2018/OCT2017/test/NORMAL/NORMAL-3431386-1.jpeg', '../DeepLearning/kermany2018/OCT2017/test/NORMAL/NORMAL-349021-1.jpeg', '../DeepLearning/kermany2018/OCT2017/test/NORMAL/NORMAL-1831654-1.jpeg', '../DeepLearning/kermany2018/OCT2017/test/NORMAL/NORMAL-2377429-1.jpeg', '../DeepLearning/kermany2018/OCT2017/test/NORMAL/NORMAL-655447-1.jpeg', '../DeepLearning/kermany2018/OCT2017/test/NORMAL/NORMAL-3361560-1.jpeg', '../DeepLearning/kermany2018/OCT2017/test/NORMAL/NORMAL-3561306-2.jpeg', '../DeepLearning/kermany2018/OCT2017/test/NORMAL/NORMAL-12494-1.jpeg', '../DeepLearning/kermany2018/OCT2017/test/NORMAL/NORMAL-2769622-2.jpeg', '../DeepLearning/kermany2018/OCT2017/test/NORMAL/NORMAL-1998191-1.jpeg', '../DeepLearning/kermany2018/OCT2017/test/NORMAL/NORMAL-2733663-1.jpeg', '../DeepLearning/kermany2018/OCT2017/test/NORMAL/NORMAL-2095710-1.jpeg', '../DeepLearning/kermany2018/OCT2017/test/NORMAL/NORMAL-3451887-1.jpeg', '../DeepLearning/kermany2018/OCT2017/test/NORMAL/NORMAL-2493975-1.jpeg', '../DeepLearning/kermany2018/OCT2017/test/NORMAL/NORMAL-12494-5.jpeg', '../DeepLearning/kermany2018/OCT2017/test/NORMAL/NORMAL-66515-1.jpeg', '../DeepLearning/kermany2018/OCT2017/test/NORMAL/NORMAL-438684-1.jpeg', '../DeepLearning/kermany2018/OCT2017/test/NORMAL/NORMAL-3166591-1.jpeg', '../DeepLearning/kermany2018/OCT2017/test/NORMAL/NORMAL-2373878-1.jpeg', '../DeepLearning/kermany2018/OCT2017/test/NORMAL/NORMAL-460844-1.jpeg', '../DeepLearning/kermany2018/OCT2017/test/NORMAL/NORMAL-3475211-1.jpeg', '../DeepLearning/kermany2018/OCT2017/test/NORMAL/NORMAL-3380901-1.jpeg', '../DeepLearning/kermany2018/OCT2017/test/NORMAL/NORMAL-568518-2.jpeg', '../DeepLearning/kermany2018/OCT2017/test/NORMAL/NORMAL-450923-1.jpeg', '../DeepLearning/kermany2018/OCT2017/test/NORMAL/NORMAL-744709-1.jpeg', '../DeepLearning/kermany2018/OCT2017/test/NORMAL/NORMAL-3326661-1.jpeg', '../DeepLearning/kermany2018/OCT2017/test/NORMAL/NORMAL-3398969-1.jpeg', '../DeepLearning/kermany2018/OCT2017/test/NORMAL/NORMAL-2636641-1.jpeg', '../DeepLearning/kermany2018/OCT2017/test/NORMAL/NORMAL-2517546-1.jpeg', '../DeepLearning/kermany2018/OCT2017/test/NORMAL/NORMAL-395557-1.jpeg', '../DeepLearning/kermany2018/OCT2017/test/NORMAL/NORMAL-2421067-1.jpeg', '../DeepLearning/kermany2018/OCT2017/test/NORMAL/NORMAL-508852-2.jpeg', '../DeepLearning/kermany2018/OCT2017/test/NORMAL/NORMAL-2551333-1.jpeg', '../DeepLearning/kermany2018/OCT2017/test/NORMAL/NORMAL-2570020-1.jpeg', '../DeepLearning/kermany2018/OCT2017/test/NORMAL/NORMAL-3399839-1.jpeg', '../DeepLearning/kermany2018/OCT2017/test/NORMAL/NORMAL-1908313-1.jpeg', '../DeepLearning/kermany2018/OCT2017/test/NORMAL/NORMAL-2197972-1.jpeg', '../DeepLearning/kermany2018/OCT2017/test/NORMAL/NORMAL-2362579-1.jpeg', '../DeepLearning/kermany2018/OCT2017/test/NORMAL/NORMAL-33350-3.jpeg', '../DeepLearning/kermany2018/OCT2017/test/NORMAL/NORMAL-1073137-1.jpeg', '../DeepLearning/kermany2018/OCT2017/test/NORMAL/NORMAL-2448954-1.jpeg', '../DeepLearning/kermany2018/OCT2017/test/NORMAL/NORMAL-133321-1.jpeg', '../DeepLearning/kermany2018/OCT2017/test/NORMAL/NORMAL-544457-1.jpeg', '../DeepLearning/kermany2018/OCT2017/test/NORMAL/NORMAL-2244950-1.jpeg', '../DeepLearning/kermany2018/OCT2017/test/NORMAL/NORMAL-33637-1.jpeg', '../DeepLearning/kermany2018/OCT2017/test/NORMAL/NORMAL-285896-1.jpeg', '../DeepLearning/kermany2018/OCT2017/test/NORMAL/NORMAL-119840-1.jpeg', '../DeepLearning/kermany2018/OCT2017/test/NORMAL/NORMAL-3277704-1.jpeg', '../DeepLearning/kermany2018/OCT2017/test/NORMAL/NORMAL-1897894-1.jpeg', '../DeepLearning/kermany2018/OCT2017/test/NORMAL/NORMAL-2627129-1.jpeg', '../DeepLearning/kermany2018/OCT2017/test/NORMAL/NORMAL-1860310-1.jpeg', '../DeepLearning/kermany2018/OCT2017/test/NORMAL/NORMAL-1759350-1.jpeg', '../DeepLearning/kermany2018/OCT2017/test/NORMAL/NORMAL-348347-1.jpeg', '../DeepLearning/kermany2018/OCT2017/test/NORMAL/NORMAL-1989796-1.jpeg', '../DeepLearning/kermany2018/OCT2017/test/NORMAL/NORMAL-672619-1.jpeg', '../DeepLearning/kermany2018/OCT2017/test/NORMAL/NORMAL-33350-2.jpeg', '../DeepLearning/kermany2018/OCT2017/test/NORMAL/NORMAL-223814-1.jpeg', '../DeepLearning/kermany2018/OCT2017/test/NORMAL/NORMAL-605310-1.jpeg', '../DeepLearning/kermany2018/OCT2017/test/NORMAL/NORMAL-446851-1.jpeg', '../DeepLearning/kermany2018/OCT2017/test/NORMAL/NORMAL-2287992-1.jpeg', '../DeepLearning/kermany2018/OCT2017/test/NORMAL/NORMAL-1988065-1.jpeg', '../DeepLearning/kermany2018/OCT2017/test/NORMAL/NORMAL-438684-3.jpeg', '../DeepLearning/kermany2018/OCT2017/test/NORMAL/NORMAL-466978-1.jpeg', '../DeepLearning/kermany2018/OCT2017/test/NORMAL/NORMAL-2392366-1.jpeg', '../DeepLearning/kermany2018/OCT2017/test/NORMAL/NORMAL-508852-1.jpeg', '../DeepLearning/kermany2018/OCT2017/test/NORMAL/NORMAL-557437-2.jpeg', '../DeepLearning/kermany2018/OCT2017/test/NORMAL/NORMAL-4839633-1.jpeg', '../DeepLearning/kermany2018/OCT2017/test/NORMAL/NORMAL-2602596-1.jpeg', '../DeepLearning/kermany2018/OCT2017/test/NORMAL/NORMAL-697826-1.jpeg', '../DeepLearning/kermany2018/OCT2017/test/NORMAL/NORMAL-2011412-1.jpeg', '../DeepLearning/kermany2018/OCT2017/test/NORMAL/NORMAL-1746717-1.jpeg', '../DeepLearning/kermany2018/OCT2017/test/NORMAL/NORMAL-330905-1.jpeg', '../DeepLearning/kermany2018/OCT2017/test/NORMAL/NORMAL-443980-1.jpeg', '../DeepLearning/kermany2018/OCT2017/test/NORMAL/NORMAL-450923-2.jpeg', '../DeepLearning/kermany2018/OCT2017/test/NORMAL/NORMAL-3465750-1.jpeg', '../DeepLearning/kermany2018/OCT2017/test/NORMAL/NORMAL-2181272-1.jpeg', '../DeepLearning/kermany2018/OCT2017/test/NORMAL/NORMAL-269181-1.jpeg', '../DeepLearning/kermany2018/OCT2017/test/NORMAL/NORMAL-3077276-1.jpeg', '../DeepLearning/kermany2018/OCT2017/test/NORMAL/NORMAL-1025847-1.jpeg', '../DeepLearning/kermany2018/OCT2017/test/NORMAL/NORMAL-1038998-1.jpeg', '../DeepLearning/kermany2018/OCT2017/test/NORMAL/NORMAL-1042462-1.jpeg', '../DeepLearning/kermany2018/OCT2017/test/NORMAL/NORMAL-2342517-1.jpeg', '../DeepLearning/kermany2018/OCT2017/test/NORMAL/NORMAL-2476896-1.jpeg', '../DeepLearning/kermany2018/OCT2017/test/NORMAL/NORMAL-1983894-1.jpeg', '../DeepLearning/kermany2018/OCT2017/test/NORMAL/NORMAL-3103940-1.jpeg', '../DeepLearning/kermany2018/OCT2017/test/NORMAL/NORMAL-2705520-1.jpeg', '../DeepLearning/kermany2018/OCT2017/test/NORMAL/NORMAL-693575-1.jpeg', '../DeepLearning/kermany2018/OCT2017/test/NORMAL/NORMAL-571484-1.jpeg', '../DeepLearning/kermany2018/OCT2017/test/NORMAL/NORMAL-2459401-1.jpeg', '../DeepLearning/kermany2018/OCT2017/test/NORMAL/NORMAL-2424949-1.jpeg', '../DeepLearning/kermany2018/OCT2017/test/NORMAL/NORMAL-3300015-1.jpeg', '../DeepLearning/kermany2018/OCT2017/test/NORMAL/NORMAL-1058176-1.jpeg', '../DeepLearning/kermany2018/OCT2017/test/NORMAL/NORMAL-547422-2.jpeg', '../DeepLearning/kermany2018/OCT2017/test/NORMAL/NORMAL-1063128-1.jpeg', '../DeepLearning/kermany2018/OCT2017/test/NORMAL/NORMAL-2120559-2.jpeg', '../DeepLearning/kermany2018/OCT2017/test/NORMAL/NORMAL-1791409-1.jpeg', '../DeepLearning/kermany2018/OCT2017/test/NORMAL/NORMAL-2082689-1.jpeg', '../DeepLearning/kermany2018/OCT2017/test/NORMAL/NORMAL-3330006-1.jpeg', '../DeepLearning/kermany2018/OCT2017/test/NORMAL/NORMAL-351109-2.jpeg', '../DeepLearning/kermany2018/OCT2017/test/NORMAL/NORMAL-651257-1.jpeg', '../DeepLearning/kermany2018/OCT2017/test/NORMAL/NORMAL-2504667-1.jpeg', '../DeepLearning/kermany2018/OCT2017/test/NORMAL/NORMAL-2312921-1.jpeg', '../DeepLearning/kermany2018/OCT2017/test/NORMAL/NORMAL-2019006-1.jpeg', '../DeepLearning/kermany2018/OCT2017/test/NORMAL/NORMAL-84466-1.jpeg', '../DeepLearning/kermany2018/OCT2017/test/NORMAL/NORMAL-33350-1.jpeg', '../DeepLearning/kermany2018/OCT2017/test/NORMAL/NORMAL-307151-1.jpeg', '../DeepLearning/kermany2018/OCT2017/test/NORMAL/NORMAL-2010714-1.jpeg', '../DeepLearning/kermany2018/OCT2017/test/NORMAL/NORMAL-549356-1.jpeg', '../DeepLearning/kermany2018/OCT2017/test/NORMAL/NORMAL-402066-4.jpeg', '../DeepLearning/kermany2018/OCT2017/test/NORMAL/NORMAL-582215-1.jpeg', '../DeepLearning/kermany2018/OCT2017/test/NORMAL/NORMAL-3354044-1.jpeg', '../DeepLearning/kermany2018/OCT2017/test/NORMAL/NORMAL-626127-1.jpeg', '../DeepLearning/kermany2018/OCT2017/test/NORMAL/NORMAL-3332063-1.jpeg', '../DeepLearning/kermany2018/OCT2017/test/NORMAL/NORMAL-48053-1.jpeg', '../DeepLearning/kermany2018/OCT2017/test/NORMAL/NORMAL-283376-1.jpeg', '../DeepLearning/kermany2018/OCT2017/test/NORMAL/NORMAL-3561306-1.jpeg', '../DeepLearning/kermany2018/OCT2017/test/NORMAL/NORMAL-15307-1.jpeg', '../DeepLearning/kermany2018/OCT2017/test/NORMAL/NORMAL-568518-1.jpeg', '../DeepLearning/kermany2018/OCT2017/test/NORMAL/NORMAL-2403175-1.jpeg', '../DeepLearning/kermany2018/OCT2017/test/NORMAL/NORMAL-2316423-1.jpeg', '../DeepLearning/kermany2018/OCT2017/test/NORMAL/NORMAL-772481-1.jpeg', '../DeepLearning/kermany2018/OCT2017/test/NORMAL/NORMAL-2350851-1.jpeg', '../DeepLearning/kermany2018/OCT2017/test/NORMAL/NORMAL-3307598-2.jpeg', '../DeepLearning/kermany2018/OCT2017/test/NORMAL/NORMAL-2739821-1.jpeg', '../DeepLearning/kermany2018/OCT2017/test/NORMAL/NORMAL-2019423-1.jpeg', '../DeepLearning/kermany2018/OCT2017/test/NORMAL/NORMAL-3416330-1.jpeg', '../DeepLearning/kermany2018/OCT2017/test/NORMAL/NORMAL-2569106-1.jpeg', '../DeepLearning/kermany2018/OCT2017/test/NORMAL/NORMAL-1907560-1.jpeg', '../DeepLearning/kermany2018/OCT2017/test/NORMAL/NORMAL-486271-1.jpeg', '../DeepLearning/kermany2018/OCT2017/test/NORMAL/NORMAL-2126186-1.jpeg', '../DeepLearning/kermany2018/OCT2017/test/NORMAL/NORMAL-2366700-1.jpeg', '../DeepLearning/kermany2018/OCT2017/test/NORMAL/NORMAL-2709055-1.jpeg', '../DeepLearning/kermany2018/OCT2017/test/NORMAL/NORMAL-279206-1.jpeg', '../DeepLearning/kermany2018/OCT2017/test/NORMAL/NORMAL-692554-1.jpeg', '../DeepLearning/kermany2018/OCT2017/test/NORMAL/NORMAL-3346049-1.jpeg', '../DeepLearning/kermany2018/OCT2017/test/NORMAL/NORMAL-15208-1.jpeg', '../DeepLearning/kermany2018/OCT2017/test/NORMAL/NORMAL-2192790-1.jpeg', '../DeepLearning/kermany2018/OCT2017/test/NORMAL/NORMAL-2182640-1.jpeg', '../DeepLearning/kermany2018/OCT2017/test/NORMAL/NORMAL-2231056-1.jpeg', '../DeepLearning/kermany2018/OCT2017/test/NORMAL/NORMAL-2460548-1.jpeg', '../DeepLearning/kermany2018/OCT2017/test/NORMAL/NORMAL-4761187-1.jpeg', '../DeepLearning/kermany2018/OCT2017/test/NORMAL/NORMAL-629493-1.jpeg', '../DeepLearning/kermany2018/OCT2017/test/NORMAL/NORMAL-2055634-1.jpeg', '../DeepLearning/kermany2018/OCT2017/test/NORMAL/NORMAL-2351012-1.jpeg', '../DeepLearning/kermany2018/OCT2017/test/NORMAL/NORMAL-3390782-1.jpeg', '../DeepLearning/kermany2018/OCT2017/test/NORMAL/NORMAL-447690-1.jpeg', '../DeepLearning/kermany2018/OCT2017/test/NORMAL/NORMAL-2598368-1.jpeg', '../DeepLearning/kermany2018/OCT2017/test/NORMAL/NORMAL-2120559-1.jpeg', '../DeepLearning/kermany2018/OCT2017/test/NORMAL/NORMAL-588227-1.jpeg', '../DeepLearning/kermany2018/OCT2017/test/NORMAL/NORMAL-2509453-1.jpeg', '../DeepLearning/kermany2018/OCT2017/test/NORMAL/NORMAL-2226488-1.jpeg', '../DeepLearning/kermany2018/OCT2017/test/NORMAL/NORMAL-519372-1.jpeg', '../DeepLearning/kermany2018/OCT2017/test/NORMAL/NORMAL-3373954-1.jpeg', '../DeepLearning/kermany2018/OCT2017/test/NORMAL/NORMAL-2434258-1.jpeg', '../DeepLearning/kermany2018/OCT2017/test/NORMAL/NORMAL-572972-1.jpeg', '../DeepLearning/kermany2018/OCT2017/test/NORMAL/NORMAL-2059629-1.jpeg', '../DeepLearning/kermany2018/OCT2017/test/NORMAL/NORMAL-446851-2.jpeg', '../DeepLearning/kermany2018/OCT2017/test/NORMAL/NORMAL-549356-2.jpeg', '../DeepLearning/kermany2018/OCT2017/test/NORMAL/NORMAL-547422-1.jpeg', '../DeepLearning/kermany2018/OCT2017/test/NORMAL/NORMAL-402066-3.jpeg', '../DeepLearning/kermany2018/OCT2017/test/NORMAL/NORMAL-1957379-1.jpeg', '../DeepLearning/kermany2018/OCT2017/test/NORMAL/NORMAL-2633503-1.jpeg', '../DeepLearning/kermany2018/OCT2017/test/NORMAL/NORMAL-571157-1.jpeg', '../DeepLearning/kermany2018/OCT2017/test/NORMAL/NORMAL-3466714-1.jpeg', '../DeepLearning/kermany2018/OCT2017/test/NORMAL/NORMAL-12494-4.jpeg', '../DeepLearning/kermany2018/OCT2017/test/NORMAL/NORMAL-1853526-1.jpeg', '../DeepLearning/kermany2018/OCT2017/test/NORMAL/NORMAL-574089-1.jpeg', '../DeepLearning/kermany2018/OCT2017/test/NORMAL/NORMAL-755659-1.jpeg', '../DeepLearning/kermany2018/OCT2017/test/NORMAL/NORMAL-153950-1.jpeg', '../DeepLearning/kermany2018/OCT2017/test/NORMAL/NORMAL-3220509-1.jpeg', '../DeepLearning/kermany2018/OCT2017/test/NORMAL/NORMAL-758272-1.jpeg', '../DeepLearning/kermany2018/OCT2017/test/NORMAL/NORMAL-544711-1.jpeg', '../DeepLearning/kermany2018/OCT2017/test/NORMAL/NORMAL-3059523-1.jpeg', '../DeepLearning/kermany2018/OCT2017/test/NORMAL/NORMAL-2973935-1.jpeg', '../DeepLearning/kermany2018/OCT2017/test/NORMAL/NORMAL-3347645-1.jpeg', '../DeepLearning/kermany2018/OCT2017/test/NORMAL/NORMAL-3320960-1.jpeg', '../DeepLearning/kermany2018/OCT2017/test/NORMAL/NORMAL-37818-1.jpeg', '../DeepLearning/kermany2018/OCT2017/test/NORMAL/NORMAL-2549549-1.jpeg', '../DeepLearning/kermany2018/OCT2017/test/NORMAL/NORMAL-76914-1.jpeg', '../DeepLearning/kermany2018/OCT2017/test/NORMAL/NORMAL-3340309-1.jpeg', '../DeepLearning/kermany2018/OCT2017/test/NORMAL/NORMAL-524640-1.jpeg', '../DeepLearning/kermany2018/OCT2017/test/NORMAL/NORMAL-3244919-1.jpeg', '../DeepLearning/kermany2018/OCT2017/test/NORMAL/NORMAL-402066-5.jpeg', '../DeepLearning/kermany2018/OCT2017/test/NORMAL/NORMAL-366503-2.jpeg', '../DeepLearning/kermany2018/OCT2017/test/NORMAL/NORMAL-3108564-1.jpeg', '../DeepLearning/kermany2018/OCT2017/test/NORMAL/NORMAL-9251-1.jpeg', '../DeepLearning/kermany2018/OCT2017/test/NORMAL/NORMAL-2305502-1.jpeg', '../DeepLearning/kermany2018/OCT2017/test/NORMAL/NORMAL-2167295-1.jpeg', '../DeepLearning/kermany2018/OCT2017/test/NORMAL/NORMAL-112928-1.jpeg', '../DeepLearning/kermany2018/OCT2017/test/NORMAL/NORMAL-549356-3.jpeg', '../DeepLearning/kermany2018/OCT2017/test/NORMAL/NORMAL-447690-2.jpeg', '../DeepLearning/kermany2018/OCT2017/test/NORMAL/NORMAL-4790999-1.jpeg', '../DeepLearning/kermany2018/OCT2017/test/NORMAL/NORMAL-3307598-1.jpeg', '../DeepLearning/kermany2018/OCT2017/test/NORMAL/NORMAL-3308307-1.jpeg', '../DeepLearning/kermany2018/OCT2017/test/NORMAL/NORMAL-2131138-1.jpeg', '../DeepLearning/kermany2018/OCT2017/test/NORMAL/NORMAL-85367-1.jpeg', '../DeepLearning/kermany2018/OCT2017/test/NORMAL/NORMAL-1951042-1.jpeg', '../DeepLearning/kermany2018/OCT2017/test/NORMAL/NORMAL-628048-1.jpeg', '../DeepLearning/kermany2018/OCT2017/test/NORMAL/NORMAL-2665491-1.jpeg', '../DeepLearning/kermany2018/OCT2017/test/NORMAL/NORMAL-60471-1.jpeg', '../DeepLearning/kermany2018/OCT2017/test/NORMAL/NORMAL-2769622-1.jpeg']\n",
      "NORMAL-1081406-1\n"
     ]
    }
   ],
   "source": [
    "base_skin_dir = os.path.join('..', 'DeepLearning/kermany2018/OCT2017/test/NORMAL')\n",
    "locate_filename=glob(os.path.join(base_skin_dir, '*.jpeg'))\n",
    "print(locate_filename)\n",
    "\n",
    "name = os.path.splitext(os.path.basename(locate_filename[0]))[0]\n",
    "print(name) \n",
    "for x in locate_filename:\n",
    "    img = Image.open(x)\n",
    "    image_size=img.size\n",
    "    middle=image_size[0]/2\n",
    "    height=image_size[1]\n",
    "    box = (middle-height/2,0,middle+height/2,height)\n",
    "    img = img.crop(box)\n",
    "    name = os.path.splitext(os.path.basename(x))[0]\n",
    "    locate = 'kermany2018/NewSize/test/NORMAL/' + name + '.jpeg'\n",
    "    img.save(locate)\n",
    "image_path = [\"../DeepLearning/kermany2018/NewSize/test/NORMAL\"]"
   ]
  },
  {
   "cell_type": "markdown",
   "metadata": {},
   "source": [
    "# reshape圖片大小"
   ]
  },
  {
   "cell_type": "code",
   "execution_count": 32,
   "metadata": {},
   "outputs": [
    {
     "name": "stdout",
     "output_type": "stream",
     "text": [
      "kermany2018/OCT2017/train/DME/DME-7658334-3.jpeg\n",
      "<class 'numpy.ndarray'>\n"
     ]
    },
    {
     "ename": "TypeError",
     "evalue": "unsupported operand type(s) for /: 'NoneType' and 'float'",
     "output_type": "error",
     "traceback": [
      "\u001b[0;31m---------------------------------------------------------------------------\u001b[0m",
      "\u001b[0;31mTypeError\u001b[0m                                 Traceback (most recent call last)",
      "\u001b[0;32m<ipython-input-32-b64f66979bd0>\u001b[0m in \u001b[0;36m<module>\u001b[0;34m()\u001b[0m\n\u001b[1;32m      8\u001b[0m \u001b[0;31m#     ### please notice this line if image have already been normalized\u001b[0m\u001b[0;34m\u001b[0m\u001b[0;34m\u001b[0m\u001b[0m\n\u001b[1;32m      9\u001b[0m     \u001b[0mresize_image\u001b[0m \u001b[0;34m=\u001b[0m \u001b[0mraw_image\u001b[0m\u001b[0;34m.\u001b[0m\u001b[0mresize\u001b[0m\u001b[0;34m(\u001b[0m\u001b[0;34m(\u001b[0m\u001b[0;36m80\u001b[0m\u001b[0;34m,\u001b[0m \u001b[0;36m80\u001b[0m\u001b[0;34m)\u001b[0m\u001b[0;34m)\u001b[0m\u001b[0;34m\u001b[0m\u001b[0m\n\u001b[0;32m---> 10\u001b[0;31m     \u001b[0mnormalized_image\u001b[0m \u001b[0;34m=\u001b[0m \u001b[0;34m(\u001b[0m\u001b[0mresize_image\u001b[0m\u001b[0;34m)\u001b[0m\u001b[0;34m/\u001b[0m\u001b[0;36m255.0\u001b[0m\u001b[0;34m\u001b[0m\u001b[0m\n\u001b[0m\u001b[1;32m     11\u001b[0m     \u001b[0mnormalized_image\u001b[0m \u001b[0;34m=\u001b[0m \u001b[0mnormalized_image\u001b[0m\u001b[0;34m.\u001b[0m\u001b[0mreshape\u001b[0m\u001b[0;34m(\u001b[0m\u001b[0;36m80\u001b[0m\u001b[0;34m,\u001b[0m\u001b[0;36m80\u001b[0m\u001b[0;34m,\u001b[0m\u001b[0;36m1\u001b[0m\u001b[0;34m)\u001b[0m\u001b[0;34m\u001b[0m\u001b[0m\n\u001b[1;32m     12\u001b[0m     \u001b[0;31m# print(os.path.join(path,'*'))\u001b[0m\u001b[0;34m\u001b[0m\u001b[0;34m\u001b[0m\u001b[0m\n",
      "\u001b[0;31mTypeError\u001b[0m: unsupported operand type(s) for /: 'NoneType' and 'float'"
     ]
    }
   ],
   "source": [
    "path ='kermany2018/OCT2017/train/DME'\n",
    "batch_data = []\n",
    "for index, im in enumerate(path):\n",
    "    B=np.array(glob(os.path.join(path,'*.jpeg')))\n",
    "    print(B[0])\n",
    "    raw_image = np.array(Image.open(r'kermany2018/OCT2017/train/DME/DME-7658334-3.jpeg'),np.float32)\n",
    "    print(type(raw_image))\n",
    "#     ### please notice this line if image have already been normalized \n",
    "    resize_image = raw_image.resize((80, 80))\n",
    "    normalized_image = (resize_image)/255.0\n",
    "    normalized_image = normalized_image.reshape(80,80,1)\n",
    "    # print(os.path.join(path,'*'))\n",
    "    # print(B)\n",
    "    print(normalized_image)\n",
    "        \n",
    "\n",
    "# B=glob(os.path.join(path,'*.jpeg'))\n",
    "\n",
    "# # print(os.path.join(path,'*'))\n",
    "# # print(B)\n",
    "# data2=pd.DataFrame({'filename':B})\n",
    "# data2['label']=2\n",
    "# data2.head()        \n",
    "\n",
    "\n",
    "    "
   ]
  },
  {
   "cell_type": "code",
   "execution_count": 28,
   "metadata": {},
   "outputs": [],
   "source": [
    "base_skin_dir = os.path.join('..', 'DeepLearning/kermany2018/OCT2017/train/CNV')\n",
    "locate_filename=glob(os.path.join(base_skin_dir, '*.jpeg'))\n",
    "\n",
    "for x in locate_filename:\n",
    "    img = Image.open(x)\n",
    "    image_size=img.size\n",
    "    middle=image_size[0]/2\n",
    "    height=image_size[1]\n",
    "    box = (middle-height/2,0,middle+height/2,height)\n",
    "    img = img.crop(box)\n",
    "    name = os.path.splitext(os.path.basename(x))[0]\n",
    "    locate = 'kermany2018/NewSize/train/CNV/' + name + '.jpeg'\n",
    "    img.save(locate)"
   ]
  },
  {
   "cell_type": "code",
   "execution_count": 29,
   "metadata": {},
   "outputs": [],
   "source": [
    "base_skin_dir = os.path.join('..', 'DeepLearning/kermany2018/OCT2017/train/DRUSEN')\n",
    "locate_filename=glob(os.path.join(base_skin_dir, '*.jpeg'))\n",
    "\n",
    "for x in locate_filename:\n",
    "    img = Image.open(x)\n",
    "    image_size=img.size\n",
    "    middle=image_size[0]/2\n",
    "    height=image_size[1]\n",
    "    box = (middle-height/2,0,middle+height/2,height)\n",
    "    img = img.crop(box)\n",
    "    name = os.path.splitext(os.path.basename(x))[0]\n",
    "    locate = 'kermany2018/NewSize/train/DRUSEN/' + name + '.jpeg'\n",
    "    img.save(locate)"
   ]
  },
  {
   "cell_type": "code",
   "execution_count": 30,
   "metadata": {},
   "outputs": [],
   "source": [
    "base_skin_dir = os.path.join('..', 'DeepLearning/kermany2018/OCT2017/train/NORMAL')\n",
    "locate_filename=glob(os.path.join(base_skin_dir, '*.jpeg'))\n",
    "\n",
    "for x in locate_filename:\n",
    "    img = Image.open(x)\n",
    "    image_size=img.size\n",
    "    middle=image_size[0]/2\n",
    "    height=image_size[1]\n",
    "    box = (middle-height/2,0,middle+height/2,height)\n",
    "    img = img.crop(box)\n",
    "    name = os.path.splitext(os.path.basename(x))[0]\n",
    "    locate = 'kermany2018/NewSize/train/NORMAL/' + name + '.jpeg'\n",
    "    img.save(locate)"
   ]
  },
  {
   "cell_type": "code",
   "execution_count": 20,
   "metadata": {},
   "outputs": [
    {
     "data": {
      "text/plain": [
       "1"
      ]
     },
     "execution_count": 20,
     "metadata": {},
     "output_type": "execute_result"
    }
   ],
   "source": [
    "base_skin_dir = os.path.join('..', 'DeepLearning/kermany2018/OCT2017/train/CNV')\n",
    "locate_filename=glob(os.path.join(base_skin_dir, 'CNV-53018-1.jpeg'))\n",
    "len(locate_filename)\n",
    "# name = os.path.splitext(os.path.basename(locate_filename))[0]\n",
    "# print(name) "
   ]
  },
  {
   "cell_type": "code",
   "execution_count": 3,
   "metadata": {},
   "outputs": [],
   "source": [
    "# base_skin_dir = os.path.join('..', 'DeepLearning/kermany2018/OCT2017/test/CNV')\n",
    "# locate_filename=glob(os.path.join(base_skin_dir, 'CNV-53018-1.jpeg'))\n",
    "\n",
    "\n",
    "img = Image.open('kermany2018/OCT2017/test/CNV/CNV-1016042-1.jpeg')\n",
    "image_size=img.size\n",
    "middle=image_size[0]/2\n",
    "height=image_size[1]\n",
    "box = (middle-height/2,0,middle+height/2,height)\n",
    "img = img.crop(box)\n",
    "# name = os.path.splitext(os.path.basename(x))[0]\n",
    "locate = 'kermany2018/NewSize/test/CNV/CNV-53018-1.jpeg'\n",
    "img.save(locate)"
   ]
  }
 ],
 "metadata": {
  "kernelspec": {
   "display_name": "Python 3",
   "language": "python",
   "name": "python3"
  },
  "language_info": {
   "codemirror_mode": {
    "name": "ipython",
    "version": 3
   },
   "file_extension": ".py",
   "mimetype": "text/x-python",
   "name": "python",
   "nbconvert_exporter": "python",
   "pygments_lexer": "ipython3",
   "version": "3.6.3"
  }
 },
 "nbformat": 4,
 "nbformat_minor": 2
}
